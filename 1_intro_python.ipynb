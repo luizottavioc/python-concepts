{
 "cells": [
  {
   "cell_type": "markdown",
   "metadata": {},
   "source": [
    "## Exercícios"
   ]
  },
  {
   "cell_type": "markdown",
   "metadata": {},
   "source": [
    "1. Escreva um algoritmo que imprima na tela: Olá Mundo!"
   ]
  },
  {
   "cell_type": "code",
   "execution_count": 3,
   "metadata": {},
   "outputs": [
    {
     "name": "stdout",
     "output_type": "stream",
     "text": [
      "Olá mundo!\n"
     ]
    }
   ],
   "source": [
    "print(\"Olá mundo!\")"
   ]
  },
  {
   "cell_type": "markdown",
   "metadata": {},
   "source": [
    "2. Escreva um programa que imprima seu nome na tela."
   ]
  },
  {
   "cell_type": "code",
   "execution_count": 4,
   "metadata": {},
   "outputs": [
    {
     "name": "stdout",
     "output_type": "stream",
     "text": [
      "Luiz Otávio Carvalho\n"
     ]
    }
   ],
   "source": [
    "print(\"Luiz Otávio Carvalho\")"
   ]
  },
  {
   "cell_type": "markdown",
   "metadata": {},
   "source": [
    "3. O que o código a seguir imprime?\n",
    "\n",
    "```python\n",
    "print(\"*\\n**\\n***\\n****\\n*****\")\n",
    "```"
   ]
  },
  {
   "cell_type": "markdown",
   "metadata": {},
   "source": [
    "imprime uma espécie de \"árvore\" de asteriscos, uma vez que a sequência \"\\n\" quebra linha na impressão"
   ]
  },
  {
   "cell_type": "markdown",
   "metadata": {},
   "source": [
    "4. O que aparece na janela do console, quando cada uma das instruções abaixo são executadas, para: x = 2 e y = 3? Execute cada uma das linhas abaixos e, se necessário, faça os devidos ajustes no código.\n",
    "    1. *print('x = ' + str(x))*\n",
    "    2. *print('O valor de x + x é ' + str(x + x))*\n",
    "    3. *print('x = ')*\n",
    "    4. *print(str(x + y) + ' = ' + str(y + x))*\n"
   ]
  },
  {
   "cell_type": "markdown",
   "metadata": {},
   "source": [
    "- A: \"x = 2\"\n",
    "- B: \"O valor de x + x é 4\"\n",
    "- C: \"x =\"\n",
    "- D: \"5 = 5\""
   ]
  },
  {
   "cell_type": "markdown",
   "metadata": {},
   "source": [
    "5. Escreva um algoritmo que imprima na tela a seguinte mensagem:\n",
    "\n",
    "> A programação é aprendida escrevendo programas - \n",
    "> Brian Kernighan\n"
   ]
  },
  {
   "cell_type": "code",
   "execution_count": 5,
   "metadata": {},
   "outputs": [
    {
     "name": "stdout",
     "output_type": "stream",
     "text": [
      "> A programação é aprendida escrevendo programas - \n",
      "> Brian Kernighan\n"
     ]
    }
   ],
   "source": [
    "print('> A programação é aprendida escrevendo programas - \\n> Brian Kernighan')"
   ]
  },
  {
   "cell_type": "markdown",
   "metadata": {},
   "source": [
    "6. Crie um algoritmo que imprima o produto entre os números 25 e 27"
   ]
  },
  {
   "cell_type": "code",
   "execution_count": 6,
   "metadata": {},
   "outputs": [
    {
     "name": "stdout",
     "output_type": "stream",
     "text": [
      "675\n"
     ]
    }
   ],
   "source": [
    "res = 25*27\n",
    "print(res)"
   ]
  },
  {
   "cell_type": "markdown",
   "metadata": {},
   "source": [
    "7. Crie um algoritmo que imprima a média aritmética entre os números 4, 12, 15."
   ]
  },
  {
   "cell_type": "code",
   "execution_count": 8,
   "metadata": {},
   "outputs": [
    {
     "name": "stdout",
     "output_type": "stream",
     "text": [
      "8.0\n"
     ]
    }
   ],
   "source": [
    "tot = (4+5+15)\n",
    "print(str(tot/3))"
   ]
  },
  {
   "cell_type": "markdown",
   "metadata": {},
   "source": [
    "8. Faça um programa que leia um número inteiro e mostre-o na tela da seguinte forma: \n",
    "\n",
    "> O número inteiro digitado foi 4."
   ]
  },
  {
   "cell_type": "code",
   "execution_count": 9,
   "metadata": {},
   "outputs": [
    {
     "name": "stdin",
     "output_type": "stream",
     "text": [
      "Digite o seu número:  5\n"
     ]
    },
    {
     "name": "stdout",
     "output_type": "stream",
     "text": [
      "O número inteiro digitado foi 5\n"
     ]
    }
   ],
   "source": [
    "n = input('Digite o seu número: ')\n",
    "print('O número inteiro digitado foi '+str(n))"
   ]
  },
  {
   "cell_type": "markdown",
   "metadata": {},
   "source": [
    "9. Faça um programa que leia e imprima dois números inteiros na tela."
   ]
  },
  {
   "cell_type": "code",
   "execution_count": 8,
   "metadata": {},
   "outputs": [
    {
     "name": "stdin",
     "output_type": "stream",
     "text": [
      "Digite o seu primeiro número:  1\n",
      "Digite o seu segundo número:  2\n"
     ]
    },
    {
     "name": "stdout",
     "output_type": "stream",
     "text": [
      "\n",
      "Os números digitados foram: 1 e 2\n"
     ]
    }
   ],
   "source": [
    "n1 = int(input('Digite o seu primeiro número: '))\n",
    "n2 = int(input('Digite o seu segundo número: '))\n",
    "print(f'\\nOs números digitados foram: {n1} e {n2}')"
   ]
  },
  {
   "cell_type": "markdown",
   "metadata": {},
   "source": [
    "10. Faça um programa que leia um número inteiro e imprima seu número sucessor e antecessor."
   ]
  },
  {
   "cell_type": "code",
   "execution_count": 9,
   "metadata": {},
   "outputs": [
    {
     "name": "stdin",
     "output_type": "stream",
     "text": [
      "Digite o seu número inteiro:  14\n"
     ]
    },
    {
     "name": "stdout",
     "output_type": "stream",
     "text": [
      "\n",
      "- Antecessor de 14: 13\n",
      "- Sucessor de 14: 15\n"
     ]
    }
   ],
   "source": [
    "n = int(input('Digite o seu número inteiro: '))\n",
    "print(f'\\n- Antecessor de {n}: {str(n-1)}')\n",
    "print(f'- Sucessor de {n}: {str(n+1)}')"
   ]
  },
  {
   "cell_type": "markdown",
   "metadata": {},
   "source": [
    "11. Faça um programa que leia o nome, endereço e telefone de um usuário e imprima na tela."
   ]
  },
  {
   "cell_type": "code",
   "execution_count": 17,
   "metadata": {},
   "outputs": [
    {
     "name": "stdin",
     "output_type": "stream",
     "text": [
      "Digite seu nome:  Luiz Otávio\n",
      "Digite seu endereço:  Rua 14 esquina com rua 13\n",
      "Digite seu telefone:  031 998765432\n"
     ]
    },
    {
     "name": "stdout",
     "output_type": "stream",
     "text": [
      "\n",
      "Dados do usuário: \n",
      "- Nome: Luiz Otávio\n",
      "- Endereço: Rua 14 esquina com rua 13\n",
      "- Telefone: 031 998765432\n"
     ]
    }
   ],
   "source": [
    "nome = input('Digite seu nome: ')\n",
    "end = input('Digite seu endereço: ')\n",
    "tel = input('Digite seu telefone: ')\n",
    "\n",
    "print('\\nDados do usuário: ')\n",
    "print(f'- Nome: {nome}\\n- Endereço: {end}\\n- Telefone: {tel}')"
   ]
  },
  {
   "cell_type": "markdown",
   "metadata": {},
   "source": [
    "12. Faça um programa que leia e multiplique dois números inteiros."
   ]
  },
  {
   "cell_type": "code",
   "execution_count": 10,
   "metadata": {},
   "outputs": [
    {
     "name": "stdin",
     "output_type": "stream",
     "text": [
      "Digite o seu primeiro número inteiro:  9\n",
      "Digite o seu segundo número inteiro:  9\n"
     ]
    },
    {
     "name": "stdout",
     "output_type": "stream",
     "text": [
      "\n",
      "Os dois números multiplicados: 81\n"
     ]
    }
   ],
   "source": [
    "n1 = int(input('Digite o seu primeiro número inteiro: '))\n",
    "n2 = int(input('Digite o seu segundo número inteiro: '))\n",
    "print(f'\\nOs dois números multiplicados: {str(n1*n2)}')"
   ]
  },
  {
   "cell_type": "markdown",
   "metadata": {},
   "source": [
    "13. Faça um programa que leia um número real e imprima a terça parte deste número."
   ]
  },
  {
   "cell_type": "code",
   "execution_count": 11,
   "metadata": {},
   "outputs": [
    {
     "name": "stdin",
     "output_type": "stream",
     "text": [
      "Digite o seu número:  10\n"
     ]
    },
    {
     "name": "stdout",
     "output_type": "stream",
     "text": [
      "\n",
      "A terça parte deste número: 3.33\n"
     ]
    }
   ],
   "source": [
    "n = float(input('Digite o seu número: '))\n",
    "print(f'\\nA terça parte deste número: {str(round(n/3,2))}')"
   ]
  },
  {
   "cell_type": "markdown",
   "metadata": {},
   "source": [
    "14. Faça um programa que leia dois números inteiros e imprima o dividendo, divisor, quociente e resto da divisão"
   ]
  },
  {
   "cell_type": "code",
   "execution_count": 27,
   "metadata": {},
   "outputs": [
    {
     "name": "stdin",
     "output_type": "stream",
     "text": [
      "Digite o seu primeiro número inteiro:  7\n",
      "Digite o seu segundo número inteiro:  4\n"
     ]
    },
    {
     "name": "stdout",
     "output_type": "stream",
     "text": [
      "\n",
      "- Dividendo: 7\n",
      "- Divisor: 4\n",
      "- Quociente: 1\n",
      "- Resto: 3\n"
     ]
    }
   ],
   "source": [
    "n1 = int(input('Digite o seu primeiro número inteiro: '))\n",
    "n2 = int(input('Digite o seu segundo número inteiro: '))\n",
    "q = int(n1/n2)\n",
    "r = n1 % n2\n",
    "\n",
    "print(f'\\n- Dividendo: {n1}')\n",
    "print(f'- Divisor: {n2}')\n",
    "print(f'- Quociente: {q}')\n",
    "print(f'- Resto: {r}')"
   ]
  },
  {
   "cell_type": "markdown",
   "metadata": {},
   "source": [
    "15. Escreva um programa que solicite do usuário dois números, e imprima o resultado da soma, subtração, multiplicação e divisão."
   ]
  },
  {
   "cell_type": "code",
   "execution_count": 30,
   "metadata": {},
   "outputs": [
    {
     "name": "stdin",
     "output_type": "stream",
     "text": [
      "Digite o seu primeiro número:  14\n",
      "Digite o seu segundo número:  2\n"
     ]
    },
    {
     "name": "stdout",
     "output_type": "stream",
     "text": [
      "\n",
      "- Soma: 16.0\n",
      "- Subtração: 12.0\n",
      "- Multiplicação: 28.0\n",
      "- Divisão: 7.0\n"
     ]
    }
   ],
   "source": [
    "n1 = float(input('Digite o seu primeiro número: '))\n",
    "n2 = float(input('Digite o seu segundo número: '))\n",
    "soma = n1+n2\n",
    "sub = n1-n2\n",
    "mult = n1*n2\n",
    "div = round(n1/n2, 2)\n",
    "\n",
    "print(f'\\n- Soma: {soma}')\n",
    "print(f'- Subtração: {sub}')\n",
    "print(f'- Multiplicação: {mult}')\n",
    "print(f'- Divisão: {div}')"
   ]
  },
  {
   "cell_type": "markdown",
   "metadata": {},
   "source": [
    "16. Faça um programa que leia quatro números inteiros, calcule e mostre a soma desses números."
   ]
  },
  {
   "cell_type": "code",
   "execution_count": 34,
   "metadata": {},
   "outputs": [
    {
     "name": "stdin",
     "output_type": "stream",
     "text": [
      "Digite um número inteiro:  2\n",
      "Digite um número inteiro:  4\n",
      "Digite um número inteiro:  16\n",
      "Digite um número inteiro:  256\n"
     ]
    },
    {
     "name": "stdout",
     "output_type": "stream",
     "text": [
      "\n",
      "- Soma dos números: 278\n"
     ]
    }
   ],
   "source": [
    "sum = 0\n",
    "for i in range(4):\n",
    "    sum += int(input('Digite um número inteiro: '))\n",
    "    \n",
    "print(f'\\n- Soma dos números: {sum}')"
   ]
  },
  {
   "cell_type": "markdown",
   "metadata": {},
   "source": [
    "17. Faça um programa que receba três notas, calcule e mostre a média aritmética."
   ]
  },
  {
   "cell_type": "code",
   "execution_count": 39,
   "metadata": {},
   "outputs": [
    {
     "name": "stdin",
     "output_type": "stream",
     "text": [
      "Digite uma nota:  10\n",
      "Digite uma nota:  2.5\n",
      "Digite uma nota:  10\n"
     ]
    },
    {
     "name": "stdout",
     "output_type": "stream",
     "text": [
      "\n",
      "- Média das notas: 7.5\n"
     ]
    }
   ],
   "source": [
    "sum = 0\n",
    "tot = 0\n",
    "for i in range(3):\n",
    "    tot += 1\n",
    "    sum += float(input('Digite uma nota: '))\n",
    "    \n",
    "print(f'\\n- Média das notas: {(sum/tot)}')"
   ]
  },
  {
   "cell_type": "markdown",
   "metadata": {},
   "source": [
    "18. Faça um programa que receba três notas e seus respectivos pesos, calcule e mostre a média ponderada."
   ]
  },
  {
   "cell_type": "code",
   "execution_count": 40,
   "metadata": {},
   "outputs": [
    {
     "name": "stdin",
     "output_type": "stream",
     "text": [
      "Digite a nota:  10\n",
      "Agora, o peso dela:  2\n",
      "Digite a nota:  0\n",
      "Agora, o peso dela:  4\n",
      "Digite a nota:  10\n",
      "Agora, o peso dela:  2\n"
     ]
    },
    {
     "name": "stdout",
     "output_type": "stream",
     "text": [
      "\n",
      "- Média das notas: 5.0\n"
     ]
    }
   ],
   "source": [
    "sum = 0\n",
    "tot = 0\n",
    "for i in range(3):\n",
    "    nota = float(input('Digite a nota: '))\n",
    "    peso = float(input('Agora, o peso dela: '))\n",
    "    sum += nota*peso\n",
    "    tot += peso\n",
    "    \n",
    "print(f'\\n- Média das notas: {(sum/tot)}')"
   ]
  },
  {
   "cell_type": "markdown",
   "metadata": {},
   "source": [
    "19. Faça um programa que receba o salário de um funcionário, calcule e mostre o novo salário, sabendo-se que este sofreu um aumento de 25%."
   ]
  },
  {
   "cell_type": "code",
   "execution_count": 12,
   "metadata": {},
   "outputs": [
    {
     "name": "stdin",
     "output_type": "stream",
     "text": [
      "Digite o salário do funcionário:  1280\n"
     ]
    },
    {
     "name": "stdout",
     "output_type": "stream",
     "text": [
      "\n",
      "Novo salário com 25% de aumento: 1600.0\n"
     ]
    }
   ],
   "source": [
    "sal = float(input('Digite o salário do funcionário: '))\n",
    "print(f'\\nNovo salário com 25% de aumento: {sal*1.25}')"
   ]
  },
  {
   "cell_type": "markdown",
   "metadata": {},
   "source": [
    "20. Faça um programa que receba o salário de um funcionário e o percentual de aumento, calcule e mostre o valor do aumento e o novo salário. "
   ]
  },
  {
   "cell_type": "code",
   "execution_count": 14,
   "metadata": {},
   "outputs": [
    {
     "name": "stdin",
     "output_type": "stream",
     "text": [
      "Digite o salário do funcionário:  1280\n",
      "Agora, digite a porcentagem do aumento desse salário (0-100):  25\n"
     ]
    },
    {
     "name": "stdout",
     "output_type": "stream",
     "text": [
      "\n",
      "Novo salário com 25% de aumento: 1600.0\n"
     ]
    }
   ],
   "source": [
    "sal = float(input('Digite o salário do funcionário: '))\n",
    "aumento = float(input('Agora, digite a porcentagem do aumento desse salário (0-100): '))\n",
    "print(f'\\nNovo salário com 25% de aumento: {sal*((100+aumento)/100)}')"
   ]
  },
  {
   "cell_type": "markdown",
   "metadata": {},
   "source": [
    "21. Faça um programa que receba o salário base de um funcionário, calcule e mostre o salário a receber, sabendo-se que o funcionário tem gratificação de 5% sobre o salário base e paga imposto de 7% também sobre o salário base."
   ]
  },
  {
   "cell_type": "code",
   "execution_count": 15,
   "metadata": {},
   "outputs": [
    {
     "name": "stdin",
     "output_type": "stream",
     "text": [
      "Digite o salário do funcionário:  1000\n"
     ]
    },
    {
     "name": "stdout",
     "output_type": "stream",
     "text": [
      "\n",
      "Salário final dado bonificações e descontos: 980.0\n"
     ]
    }
   ],
   "source": [
    "sal = float(input('Digite o salário do funcionário: '))\n",
    "grat = sal*0.05\n",
    "imp = sal*0.07\n",
    "print(f'\\nSalário final dado bonificações e descontos: {round(sal+grat-imp, 2)}')"
   ]
  },
  {
   "cell_type": "markdown",
   "metadata": {},
   "source": [
    "22. Faça um programa que receba o salário base de um funcionário, calcule e mostre seu salário a receber, sabendo-se que o funcionário tem gratificação de R$ 50,00 e paga imposto de 10% sobre o salário base."
   ]
  },
  {
   "cell_type": "code",
   "execution_count": 16,
   "metadata": {},
   "outputs": [
    {
     "name": "stdin",
     "output_type": "stream",
     "text": [
      "Digite o salário do funcionário:  1000\n"
     ]
    },
    {
     "name": "stdout",
     "output_type": "stream",
     "text": [
      "\n",
      "Salário final dado bonificações e descontos: 950.0\n"
     ]
    }
   ],
   "source": [
    "sal = float(input('Digite o salário do funcionário: '))\n",
    "grat = 50\n",
    "imp = sal*0.1\n",
    "print(f'\\nSalário final dado bonificações e descontos: {round(sal+grat-imp, 2)}')"
   ]
  },
  {
   "cell_type": "markdown",
   "metadata": {},
   "source": [
    "23. Faça um programa que receba o valor de um depósito e o valor da taxa de juros, calcule e mostre o valor do rendimento e o valor total depois do rendimento."
   ]
  },
  {
   "cell_type": "code",
   "execution_count": 50,
   "metadata": {},
   "outputs": [
    {
     "name": "stdin",
     "output_type": "stream",
     "text": [
      "Digite o valor do depósito:  1000\n",
      "Agora, sua porcentagem da taxa de juros (0-100):  25\n"
     ]
    },
    {
     "name": "stdout",
     "output_type": "stream",
     "text": [
      "\n",
      "- Rendimento: 250.0\n",
      "- Valor total após rendimento: 1250.0\n"
     ]
    }
   ],
   "source": [
    "deps = float(input('Digite o valor do depósito: '))\n",
    "juros = float(input('Agora, sua porcentagem da taxa de juros (0-100): '))\n",
    "rend = deps*(aumento/100)\n",
    "print(f'\\n- Rendimento: {rend}\\n- Valor total após rendimento: {deps+rend}')\n"
   ]
  },
  {
   "cell_type": "markdown",
   "metadata": {},
   "source": [
    "24. Faça um programa que calcule e mostre a área de um triângulo. Sabe-se que: \n",
    "> Área = (base * altura) / 2."
   ]
  },
  {
   "cell_type": "code",
   "execution_count": 17,
   "metadata": {},
   "outputs": [
    {
     "name": "stdin",
     "output_type": "stream",
     "text": [
      "Digite o valor do tamanho da base do triângulo:  5\n",
      "Agora, sua altura:  10\n"
     ]
    },
    {
     "name": "stdout",
     "output_type": "stream",
     "text": [
      "\n",
      "Área do triângulo: 25.0\n"
     ]
    }
   ],
   "source": [
    "base = float(input('Digite o valor do tamanho da base do triângulo: '))\n",
    "altura = float(input('Agora, sua altura: '))\n",
    "print(f'\\nÁrea do triângulo: {(base*altura)/2}')"
   ]
  },
  {
   "cell_type": "markdown",
   "metadata": {},
   "source": [
    "25. Escreva um programa que receba como entrada o raio de um círculo e imprima o diâmetro, a circunferência e a área. Para isso, utilize as fórmulas: diâmetro = 2r; circunferência = 2πr, área = πr²."
   ]
  },
  {
   "cell_type": "code",
   "execution_count": 54,
   "metadata": {},
   "outputs": [
    {
     "name": "stdin",
     "output_type": "stream",
     "text": [
      "Digite o valor do raio do circulo:  14\n"
     ]
    },
    {
     "name": "stdout",
     "output_type": "stream",
     "text": [
      "\n",
      "- Diametro: 28.0\n",
      "- Circunferência: 87.965\n",
      "- Área: 1934.442\n"
     ]
    }
   ],
   "source": [
    "import math\n",
    "\n",
    "raio = float(input('Digite o valor do raio do circulo: '))\n",
    "pi = math.pi\n",
    "\n",
    "print(f'\\n- Diametro: {round(raio*2, 3)}')\n",
    "print(f'- Circunferência: {round(2*pi*raio, 3)}')\n",
    "print(f'- Área: {round((pi*raio)**2, 3)}')"
   ]
  },
  {
   "cell_type": "markdown",
   "metadata": {},
   "source": [
    "26. Faça um programa que receba um número positivo e maior que zero, calcule e mostre:\n",
    "    1. o número digitado ao quadrado;\n",
    "    2. o número digitado ao cubo;\n",
    "    3. a raiz quadrada do número digitado.\n"
   ]
  },
  {
   "cell_type": "code",
   "execution_count": 22,
   "metadata": {},
   "outputs": [
    {
     "name": "stdin",
     "output_type": "stream",
     "text": [
      "Digite um número positivo e maior que zero:  4\n"
     ]
    },
    {
     "name": "stdout",
     "output_type": "stream",
     "text": [
      "\n",
      "- 4.0 ao quadrado: 16.0\n",
      "- 4.0 ao cubo: 64.0\n",
      "- Raíz de 4.0: 2.0\n"
     ]
    }
   ],
   "source": [
    "import math\n",
    "import sys\n",
    "\n",
    "n = float(input('Digite um número positivo e maior que zero: '))\n",
    "if (n <= 0): sys.exit('Digite um número positivo e maior que zero!')\n",
    "\n",
    "print(f'\\n- {n} ao quadrado: {round(n**2, 3)}')\n",
    "print(f'- {n} ao cubo: {round(n**3, 3)}')\n",
    "print(f'- Raíz de {n}: {round(math.sqrt(n), 3)}')"
   ]
  },
  {
   "cell_type": "markdown",
   "metadata": {},
   "source": [
    "27. Faça um programa que receba dois números maiores que zero, calcule e mostre um elevado ao outro."
   ]
  },
  {
   "cell_type": "code",
   "execution_count": 27,
   "metadata": {},
   "outputs": [
    {
     "name": "stdin",
     "output_type": "stream",
     "text": [
      "Digite o primeiro número (maior que zero):  2\n",
      "Digite o segundo número (maior que zero):  5\n"
     ]
    },
    {
     "name": "stdout",
     "output_type": "stream",
     "text": [
      "\n",
      "2.0 elevado a 5.0: 32.0\n"
     ]
    }
   ],
   "source": [
    "import sys\n",
    "\n",
    "n1 = float(input('Digite o primeiro número (maior que zero): '))\n",
    "n2 = float(input('Digite o segundo número (maior que zero): '))\n",
    "\n",
    "if (n1 <= 0 or n2 <= 0): sys.exit('Digite números maiores que zero!')\n",
    "\n",
    "print(f'\\n{n1} elevado a {n2}: {round(n1**n2, 3)}')"
   ]
  },
  {
   "cell_type": "markdown",
   "metadata": {},
   "source": [
    "28. Sabe-se que: pé = 12 polegadas; 1 jarda = 3 pés e 1 milha = 1,760 jarda. Faça um programa que receba uma medida em pés, faça as conversões a seguir e mostre os resultados.\n",
    "    1. polegadas;\n",
    "    2. jardas;\n",
    "    3. milhas.\n"
   ]
  },
  {
   "cell_type": "code",
   "execution_count": 61,
   "metadata": {},
   "outputs": [
    {
     "name": "stdin",
     "output_type": "stream",
     "text": [
      "Digite o valor da medida em pés:  1000\n"
     ]
    },
    {
     "name": "stdout",
     "output_type": "stream",
     "text": [
      "\n",
      "- 1000.0 pés em polegadas: 12000.0\n",
      "- 1000.0 pés em jardas: 333.33\n",
      "- 1000.0 pés em milhas: 0.19\n"
     ]
    }
   ],
   "source": [
    "pes = float(input('Digite o valor da medida em pés: '))\n",
    "vPol = pes*12\n",
    "vJar = pes/3\n",
    "vMil = vJar/1760\n",
    "\n",
    "print(f'\\n- {pes} pés em polegadas: {round(vPol, 2)}')\n",
    "print(f'- {pes} pés em jardas: {round(vJar, 2)}')\n",
    "print(f'- {pes} pés em milhas: {round(vMil, 2)}')"
   ]
  },
  {
   "cell_type": "markdown",
   "metadata": {},
   "source": [
    "29. Escreva um programa que receba como entrada um número de 5 dígitos, separe o número em dígitos individuais e os imprima separados por 3 espaços cada um. Por exemplo, se o usuário digitar 42339, o programa deverá imprimir: 4    2    3    3.   Dica: utilize as operações de divisão e módulo para extrair cada dígito do número."
   ]
  },
  {
   "cell_type": "code",
   "execution_count": 2,
   "metadata": {},
   "outputs": [
    {
     "name": "stdin",
     "output_type": "stream",
     "text": [
      "Digite um número de 5 digitos:  14141\n"
     ]
    },
    {
     "name": "stdout",
     "output_type": "stream",
     "text": [
      "Resultado final com os números separados por \"3 espaços\":\n",
      "1   4   1   4   1\n"
     ]
    }
   ],
   "source": [
    "import sys\n",
    "\n",
    "num = int(input('Digite um número de 5 digitos: '))\n",
    "num = str(num)\n",
    "if (len(num) != 5): sys.exit('Digite um número com o número de dígitos correto!')\n",
    "\n",
    "txtFinal = ''\n",
    "for i in num:\n",
    "    txtFinal += '   '+i\n",
    "\n",
    "print('Resultado final com os números separados por \"3 espaços\":')\n",
    "print(txtFinal.strip())\n"
   ]
  },
  {
   "cell_type": "code",
   "execution_count": null,
   "metadata": {},
   "outputs": [],
   "source": []
  }
 ],
 "metadata": {
  "kernelspec": {
   "display_name": "Python 3 (ipykernel)",
   "language": "python",
   "name": "python3"
  },
  "language_info": {
   "codemirror_mode": {
    "name": "ipython",
    "version": 3
   },
   "file_extension": ".py",
   "mimetype": "text/x-python",
   "name": "python",
   "nbconvert_exporter": "python",
   "pygments_lexer": "ipython3",
   "version": "3.9.12"
  }
 },
 "nbformat": 4,
 "nbformat_minor": 4
}
