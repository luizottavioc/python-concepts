{
 "cells": [
  {
   "cell_type": "markdown",
   "metadata": {},
   "source": [
    "# NumPy - Manipulando Dados Numéricos"
   ]
  },
  {
   "cell_type": "code",
   "execution_count": null,
   "metadata": {},
   "outputs": [],
   "source": [
    "# NumPy na Prática\n",
    "import numpy as np             # Importa a biblioteca NumPy para seu projeto\n",
    "\n",
    "vetor = np.array([0, 1, 2, 3]) # instancia um vetor (array) em NumPy\n",
    "vetor                          # Imprime seu conteúdo"
   ]
  },
  {
   "cell_type": "markdown",
   "metadata": {},
   "source": [
    "| Tipo de Dado | Descrição                                            |\n",
    "|:-------------|:-----------------------------------------------------|\n",
    "| np.int64     | Números inteiros de 64bits                           |\n",
    "| np.float32   | Números de ponto flutuante de precisão dupla (Reais) |\n",
    "| np.complex   | Números Complexos                                    |\n",
    "| np.bool      | Tipo lógico (Booleano)                               |\n",
    "| np.object    | Tipo object do Python                                |\n",
    "| np.string_   | Cadeia de Caracteres Fixa (String)                   |\n",
    "| np.unicode_  | Cadeia de Caracteres Unicode Fixa (String)           |"
   ]
  },
  {
   "cell_type": "markdown",
   "metadata": {},
   "source": [
    "### Construção Manual de Vetores"
   ]
  },
  {
   "cell_type": "code",
   "execution_count": null,
   "metadata": {},
   "outputs": [],
   "source": [
    "# CONSTRUÇÃO MANUAL DE VETORES\n",
    "# Unidimencional (1D)\n",
    "\n",
    "vetor_numpy = np.array([0, 1, 2, 3, 4])\n",
    "\n",
    "print(vetor_numpy)        # Imprime o vetor\n",
    "print(vetor_numpy.ndim)   # Retorna o número de dimensões do vetor\n",
    "print(vetor_numpy.shape)  # Retorna a forma do vetor ou atribui uma tupla para as dimnesões do vetor\n",
    "print(len(vetor_numpy))   # Retorna o número de elementos do vetor\n",
    "\n",
    "# Multi-dimencional (n-D)\n",
    "\n",
    "# Matriz Bidimensional 2 (linhas) X 3 (colunas)\n",
    "matriz_numpy = np.array([[0, 1, 2], [3, 4, 5]]) \n",
    "\n",
    "print(matriz_numpy)\n",
    "print(matriz_numpy.ndim)\n",
    "print(matriz_numpy.shape)\n",
    "print(len(matriz_numpy))         # Retorna o tamanho da primeira dimensão do vetor (linhas)"
   ]
  },
  {
   "cell_type": "markdown",
   "metadata": {},
   "source": [
    "### Funções para Criação de Vetores"
   ]
  },
  {
   "cell_type": "code",
   "execution_count": null,
   "metadata": {},
   "outputs": [],
   "source": [
    "# Vetores Igualmente Espaçado\n",
    "print(\"Vetores Igualmente Espaçado\")\n",
    "vetor = np.arange(10) # 0 .. n - 1\n",
    "print(vetor)\n",
    "\n",
    "vetor_impar = np.arange(1, 9, 2) # Início, Fim e Incremento\n",
    "print(vetor_impar)\n",
    "\n",
    "# Vetores por números de pontos\n",
    "print(\"\\nVetores por Números de Pontos\")\n",
    "numero_pontos = np.linspace(0, 1, 6) # Início, Fim, Número de Pontos\n",
    "print(numero_pontos)\n",
    "\n",
    "# Matrizes Populares\n",
    "print(\"\\nMATRIZES POPULARES\")\n",
    "print(\"\\nMatriz de Uns\")\n",
    "matriz_de_uns = np.ones((3, 3)) # Tupla (3, 3)\n",
    "print(matriz_de_uns)\n",
    "\n",
    "print(\"\\nMatriz de Zeros\")\n",
    "matriz_de_zeros = np.zeros((2, 2))\n",
    "print(matriz_de_zeros)\n",
    "\n",
    "print(\"\\nMatriz Zerada com Diagonal de Uns\")\n",
    "matriz_zeros_diagonal_uns = np.eye(4)\n",
    "print(matriz_zeros_diagonal_uns)\n",
    "\n",
    "print(\"\\nMatriz Zerada com Diagonal de Permutações\")\n",
    "matriz_diagonal_permutacao = np.diag(np.array([1, 2, 3, 4]))\n",
    "print(matriz_diagonal_permutacao)\n",
    "\n",
    "print(\"\\nVETORES ALEATÓRIOS\")\n",
    "print(\"\\nVetor Aleatório Uniforme\")\n",
    "vetor_uniforme_aleatorio = np.random.rand(4)\n",
    "print(vetor_uniforme_aleatorio)\n",
    "\n",
    "print(\"\\nVetor Aleatório Gaussiano\")\n",
    "vetor_aleatorio_gaussiano = np.random.randn(4)\n",
    "print(vetor_aleatorio_gaussiano)\n",
    "\n",
    "np.random.seed(1234) # Definindo a semente aleatória"
   ]
  },
  {
   "cell_type": "markdown",
   "metadata": {},
   "source": [
    "### Operações Matemáticas com Vetores"
   ]
  },
  {
   "cell_type": "code",
   "execution_count": null,
   "metadata": {},
   "outputs": [],
   "source": [
    "import numpy as np\n",
    "\n",
    "vetor_a = np.array([1, 2, 3])\n",
    "vetor_b = np.array([4, 5, 6])\n",
    "\n",
    "\n",
    "# Adição\n",
    "vetor_a + vetor_b              # Usando operador aritmético\n",
    "np.add(vetor_a, vetor_b)       # Usando função definida do NumPy\n",
    "\n",
    "# Subtração\n",
    "vetor_a - vetor_b              # Usando operador aritmético\n",
    "np.subtract(vetor_a, vetor_b)  # Usando função definida do NumPy\n",
    "\n",
    "# Multiplicação\n",
    "vetor_a * vetor_b              # Usando operador aritmético\n",
    "np.multiply(vetor_a, vetor_b)  # Usando função definida do NumPy\n",
    "\n",
    "# Divisão\n",
    "vetor_a / vetor_b              # Usando operador aritmético\n",
    "np.divide(vetor_a, vetor_b)    # Usando função definida do NumPy\n",
    "\n",
    "# Raiz Quadrada\n",
    "np.sqrt(vetor_a)\n",
    "\n",
    "# Função Exponencia\n",
    "np.exp(vetor_a)                \n",
    "\n",
    "# Seno\n",
    "np.sin(vetor_a)\n",
    "\n",
    "# Coseno\n",
    "np.cos(vetor_a)\n",
    "\n",
    "# Logaritmo Natural\n",
    "np.log(vetor_a)"
   ]
  },
  {
   "cell_type": "markdown",
   "metadata": {},
   "source": [
    "### Comparação"
   ]
  },
  {
   "cell_type": "code",
   "execution_count": null,
   "metadata": {},
   "outputs": [],
   "source": [
    "import numpy as np\n",
    "\n",
    "vetor_a = np.array([1, 2, 3])\n",
    "vetor_b = np.array([4, 5, 6])\n",
    "\n",
    "# Compara cada um dos elementos dos vetores\n",
    "# Retorna um vetor booleano com os resultados da comparação\n",
    "vetor_a == vetor_b\n",
    "vetor_a != vetor_b\n",
    "\n",
    "vetor_a > vetor_b\n",
    "vetor_a >= vetor_b\n",
    "\n",
    "vetor_a < vetor_b\n",
    "vetor_a <= vetor_b"
   ]
  },
  {
   "cell_type": "markdown",
   "metadata": {},
   "source": [
    "### Funções Agregadas"
   ]
  },
  {
   "cell_type": "code",
   "execution_count": null,
   "metadata": {},
   "outputs": [],
   "source": [
    "import numpy as np\n",
    "\n",
    "vetor = np.array([1, 2, 3, 4, 5])\n",
    "\n",
    "vetor.sum()         # Soma todos os elementos do vetor\n",
    "vetor.cumsum()      # Soma acumulada de todos os elementos do vetor\n",
    "\n",
    "vetor.min()         # Retorna o menor elemento do vetor numérico\n",
    "vetor.max()         # Retorna o maior elemento do vetor numérico\n",
    "\n",
    "vetor.mean()        # Média\n",
    "np.median(vetor)    # Mediana\n",
    "np.corrcoef(vetor)  # Coeficiente de Correlação\n",
    "np.std(vetor)       # Desvio Padrão"
   ]
  },
  {
   "cell_type": "markdown",
   "metadata": {},
   "source": [
    "### Copiando Vetores"
   ]
  },
  {
   "cell_type": "code",
   "execution_count": null,
   "metadata": {},
   "outputs": [],
   "source": [
    "import numpy as np\n",
    "\n",
    "vetor = np.array([1, 2, 3, 4, 5])\n",
    "\n",
    "copia_vetor = np.copy(vetor)\n",
    "print(copia_vetor)\n",
    "\n",
    "copia = vetor.copy()  \n",
    "print(copia)\n",
    "\n",
    "visao = vetor.view()  # Cria uma visão (view) do vetor [representação virutal em memória]\n",
    "print(visao)"
   ]
  },
  {
   "cell_type": "markdown",
   "metadata": {},
   "source": [
    "### Ordenando Vetores"
   ]
  },
  {
   "cell_type": "code",
   "execution_count": null,
   "metadata": {},
   "outputs": [],
   "source": [
    "import numpy as np\n",
    "\n",
    "vetor = np.array([9, 8, 7, 6, 5, 4, 3, 2, 1])\n",
    "vetor.sort()\n",
    "vetor"
   ]
  },
  {
   "cell_type": "markdown",
   "metadata": {},
   "source": [
    "### Subconjunto, Fatiamento e Indexação"
   ]
  },
  {
   "cell_type": "code",
   "execution_count": null,
   "metadata": {},
   "outputs": [],
   "source": [
    "import numpy as np\n",
    "\n",
    "vetor = np.array([1, 2, 3, 4, 5])\n",
    "matriz = np.array([(1, 2, 3), (4, 5, 6), (7, 8, 9)])\n",
    "\n",
    "\n",
    "print(vetor[2])        # vetor[i] = Pega o elemento do vetor na posição (i)\n",
    "print(matriz[1, 2])    # vetor[linha, coluna] = Pega um elemento em uma matriz\n",
    "\n",
    "\n",
    "print(vetor[0:3])      # vetor[inicio:quantidade] = Retorna 3 elementos contados à partir da posição de início ([0] \n",
    "print(matriz[1:2])     # Seleciona todos elementos da primeira linha até a terceira coluna\n",
    "print(matriz[0:3, 1])  # matriz[inicio:quantidade, coluna] Seleciona 3 elementos da segunda coluna [1], à partir da primeira linha [0]\n",
    "\n",
    "print(matriz[:1])      # Seleciona todos os itens da primeira linha\n",
    "print(matriz[:2])      # Seleciona todos os itens da primeira linha e segunda linha\n",
    "\n",
    "print(vetor[ : :-1])   # Seleciona todos os elementos de trás pra frente (invertido)\n",
    "\n",
    "# Indexação Lógica\n",
    "print(vetor[vetor <= 3]) # Seleciona todos os elementos dos índices menores iguais a 3\n",
    "print(vetor[1 + 3])      # Calcula dinamicamente a posição do vetor\n",
    "\n",
    "\n",
    "print(matriz[[1, 0, 1, 0]]) # Retorna uma matriz com as linhas 1 e 0 repetidas"
   ]
  },
  {
   "cell_type": "code",
   "execution_count": null,
   "metadata": {},
   "outputs": [],
   "source": [
    "import numpy as np\n",
    "from io import StringIO\n",
    "\n",
    "data = u\"1, 2, 3\\n4, 5, 6\"\n",
    "vetor = np.genfromtxt(StringIO(data), delimiter=\",\") # Converte dados para vetor\n",
    "np.savetxt(\"nome_arquivo.txt\", vetor, delimiter=\" \") # Salva o vetor como arquivo"
   ]
  },
  {
   "cell_type": "markdown",
   "metadata": {},
   "source": [
    "```python\n",
    "# Exemplo - Carregamento de Arquivos\n",
    "np.genfromtxt(\"nome_arquivo.csv\", delimiter=',')\n",
    "np.loadtxt(\"nome_arquivo.txt\")\n",
    "```"
   ]
  },
  {
   "cell_type": "markdown",
   "metadata": {
    "tags": []
   },
   "source": [
    "# Exercícios"
   ]
  },
  {
   "cell_type": "markdown",
   "metadata": {},
   "source": [
    "1. Importe o pacote numpy com o nome np."
   ]
  },
  {
   "cell_type": "code",
   "execution_count": 2,
   "metadata": {},
   "outputs": [],
   "source": [
    "import numpy as np"
   ]
  },
  {
   "cell_type": "markdown",
   "metadata": {},
   "source": [
    "2. Crie o seguinte vetor unidimensional (1D):\n",
    "\n",
    "| 0 | 1 | 2 | 3 | 4 | 5 | 6 | 7 | 8 | 9 |\n",
    "|:-:|:-:|:-:|:-:|:-:|:-:|:-:|:-:|:-:|:-:|"
   ]
  },
  {
   "cell_type": "code",
   "execution_count": 3,
   "metadata": {},
   "outputs": [
    {
     "data": {
      "text/plain": [
       "array([0, 1, 2, 3, 4, 5, 6, 7, 8, 9])"
      ]
     },
     "execution_count": 3,
     "metadata": {},
     "output_type": "execute_result"
    }
   ],
   "source": [
    "vet = np.array(range(10))\n",
    "vet"
   ]
  },
  {
   "cell_type": "markdown",
   "metadata": {},
   "source": [
    "3. Qual é o comprimento `len` do vetor?"
   ]
  },
  {
   "cell_type": "code",
   "execution_count": 4,
   "metadata": {},
   "outputs": [
    {
     "data": {
      "text/plain": [
       "10"
      ]
     },
     "execution_count": 4,
     "metadata": {},
     "output_type": "execute_result"
    }
   ],
   "source": [
    "len(vet)"
   ]
  },
  {
   "cell_type": "markdown",
   "metadata": {},
   "source": [
    "4. Quantas dimensões `ndim` o vetor possui?"
   ]
  },
  {
   "cell_type": "code",
   "execution_count": 5,
   "metadata": {},
   "outputs": [
    {
     "data": {
      "text/plain": [
       "1"
      ]
     },
     "execution_count": 5,
     "metadata": {},
     "output_type": "execute_result"
    }
   ],
   "source": [
    "vet.ndim"
   ]
  },
  {
   "cell_type": "markdown",
   "metadata": {},
   "source": [
    "5. O que a função `shape` retorna?"
   ]
  },
  {
   "cell_type": "code",
   "execution_count": 6,
   "metadata": {},
   "outputs": [
    {
     "data": {
      "text/plain": [
       "(10,)"
      ]
     },
     "execution_count": 6,
     "metadata": {},
     "output_type": "execute_result"
    }
   ],
   "source": [
    "vet.shape"
   ]
  },
  {
   "cell_type": "markdown",
   "metadata": {},
   "source": [
    "**Resposta**: A função shape retorna o formato do vetor, o que indica seu tamanho. No caso acima, existem 10 registros, como se trata de um vetor de apenas uma dimensão, é retornado apenas o número de elementos."
   ]
  },
  {
   "cell_type": "markdown",
   "metadata": {},
   "source": [
    "6. Crie a variável *pares* e extraia todos os números pares do vetor para ela:"
   ]
  },
  {
   "cell_type": "code",
   "execution_count": 7,
   "metadata": {},
   "outputs": [
    {
     "data": {
      "text/plain": [
       "array([0, 2, 4, 6, 8])"
      ]
     },
     "execution_count": 7,
     "metadata": {},
     "output_type": "execute_result"
    }
   ],
   "source": [
    "pares = vet[0::2]\n",
    "pares"
   ]
  },
  {
   "cell_type": "markdown",
   "metadata": {},
   "source": [
    "7. Substitua todos os elementos ímpares do vetor por -1, em seguida, ordene os resultados:"
   ]
  },
  {
   "cell_type": "code",
   "execution_count": 8,
   "metadata": {},
   "outputs": [
    {
     "data": {
      "text/plain": [
       "array([-1, -1, -1, -1, -1,  0,  2,  4,  6,  8])"
      ]
     },
     "execution_count": 8,
     "metadata": {},
     "output_type": "execute_result"
    }
   ],
   "source": [
    "vet[vet % 2 != 0] = -1\n",
    "vet.sort()\n",
    "\n",
    "vet"
   ]
  },
  {
   "cell_type": "markdown",
   "metadata": {},
   "source": [
    "8. Converta o vetor unidimensional (1D) abaixo para uma matriz (2D) com 4 linhas. **Dica:** `reshape`."
   ]
  },
  {
   "cell_type": "code",
   "execution_count": 15,
   "metadata": {},
   "outputs": [
    {
     "data": {
      "text/plain": [
       "array([[ 0,  1,  2],\n",
       "       [ 3,  4,  5],\n",
       "       [ 6,  7,  8],\n",
       "       [ 9, 10, 11]])"
      ]
     },
     "execution_count": 15,
     "metadata": {},
     "output_type": "execute_result"
    }
   ],
   "source": [
    "vetor1d = np.arange(12)\n",
    "vetor2d = vetor1d.reshape(4,3)\n",
    "\n",
    "vetor2d"
   ]
  },
  {
   "cell_type": "markdown",
   "metadata": {},
   "source": [
    "9. Obtenha os itens em comum, ou seja, a intersecção dos vetores `a` e `b` abaixo:\n",
    "**Saída**: [2, 4, 6]"
   ]
  },
  {
   "cell_type": "code",
   "execution_count": 16,
   "metadata": {},
   "outputs": [
    {
     "data": {
      "text/plain": [
       "array([2, 4, 6])"
      ]
     },
     "execution_count": 16,
     "metadata": {},
     "output_type": "execute_result"
    }
   ],
   "source": [
    "a = np.array([1, 2, 3, 4, 5, 6])\n",
    "b = np.array([2, 4, 6, 8, 10])\n",
    "\n",
    "commonItems = np.intersect1d(a, b)\n",
    "commonItems"
   ]
  },
  {
   "cell_type": "markdown",
   "metadata": {},
   "source": [
    "10. Retorne os valores únicos do vetor `a` que não estão no vetor `b` (diferença).\n",
    "**Saída**: [1, 3]"
   ]
  },
  {
   "cell_type": "code",
   "execution_count": 21,
   "metadata": {},
   "outputs": [
    {
     "data": {
      "text/plain": [
       "array([1, 3])"
      ]
     },
     "execution_count": 21,
     "metadata": {},
     "output_type": "execute_result"
    }
   ],
   "source": [
    "a = np.array([1, 2, 3, 4])\n",
    "b = np.array([2, 4, 6, 8, 10])\n",
    "\n",
    "diff = np.setdiff1d(a,b)\n",
    "diff"
   ]
  },
  {
   "cell_type": "markdown",
   "metadata": {},
   "source": [
    "11. Retorne um vetor com as posições (índices) onde os elementos do vetor `a` sãos iguais aos elementos do vetor `b`. **Dica**: `where`.\n",
    "**Saída**: [2, 3, 5]"
   ]
  },
  {
   "cell_type": "code",
   "execution_count": 42,
   "metadata": {},
   "outputs": [
    {
     "data": {
      "text/plain": [
       "(array([2, 3, 5], dtype=int64),)"
      ]
     },
     "execution_count": 42,
     "metadata": {},
     "output_type": "execute_result"
    }
   ],
   "source": [
    "a = np.array([1, 2, 3, 4, 5, 6])\n",
    "b = np.array([2, 4, 3, 4, 10, 6])\n",
    "\n",
    "indices = np.where(a == b)\n",
    "indices"
   ]
  },
  {
   "cell_type": "markdown",
   "metadata": {},
   "source": [
    "12. Obtenha todos os itens entre 5 e 15 do vetor `a = [0, 1, 2, 3, . . ., 20]`."
   ]
  },
  {
   "cell_type": "code",
   "execution_count": 61,
   "metadata": {},
   "outputs": [
    {
     "data": {
      "text/plain": [
       "array([ 5,  6,  7,  8,  9, 10, 11, 12, 13, 14, 15])"
      ]
     },
     "execution_count": 61,
     "metadata": {},
     "output_type": "execute_result"
    }
   ],
   "source": [
    "a = np.arange(21)\n",
    "interval = np.logical_and(a >= 5, a <= 15)\n",
    "a[interval]"
   ]
  },
  {
   "cell_type": "markdown",
   "metadata": {},
   "source": [
    "13. Crie e imprima um vetor com 5 números aleatórios, sem seguida, obtenha os valores máximo e mínimo dele e mostre na tela."
   ]
  },
  {
   "cell_type": "code",
   "execution_count": 70,
   "metadata": {},
   "outputs": [
    {
     "name": "stdout",
     "output_type": "stream",
     "text": [
      "Vetor de 5 números aleatórios: [65  4 42  1  8]\n",
      "\n",
      "- Maior valor do vetor: 65\n",
      "- Menor valor do vetor: 1\n"
     ]
    }
   ],
   "source": [
    "rand = np.random.randint(1, 100, 5)\n",
    "print(f'Vetor de 5 números aleatórios: {rand}')\n",
    "print(f'\\n- Maior valor do vetor: {rand.max()}')\n",
    "print(f'- Menor valor do vetor: {rand.min()}')"
   ]
  },
  {
   "cell_type": "markdown",
   "metadata": {},
   "source": [
    "14. Crie a seguinte matriz:\n",
    "\n",
    "|   |   |   |\n",
    "|:-:|:-:|:-:|\n",
    "| 7 | 8 | 9 |\n",
    "| 4 | 5 | 6 |\n",
    "| 1 | 2 | 3 |"
   ]
  },
  {
   "cell_type": "code",
   "execution_count": 80,
   "metadata": {},
   "outputs": [
    {
     "data": {
      "text/plain": [
       "array([[7, 8, 9],\n",
       "       [4, 5, 6],\n",
       "       [1, 2, 3]])"
      ]
     },
     "execution_count": 80,
     "metadata": {},
     "output_type": "execute_result"
    }
   ],
   "source": [
    "matriz = np.array([[7,8,9],[4,5,6], [1,2,3]])\n",
    "matriz"
   ]
  },
  {
   "cell_type": "markdown",
   "metadata": {},
   "source": [
    "15. Troque de lugar a primeira coluna com a útltima coluna da matriz."
   ]
  },
  {
   "cell_type": "code",
   "execution_count": 81,
   "metadata": {},
   "outputs": [
    {
     "data": {
      "text/plain": [
       "array([[9, 8, 7],\n",
       "       [6, 5, 4],\n",
       "       [3, 2, 1]])"
      ]
     },
     "execution_count": 81,
     "metadata": {},
     "output_type": "execute_result"
    }
   ],
   "source": [
    "matrizCopy = matriz.copy()\n",
    "matriz[:,0] = matrizCopy[:,-1]\n",
    "matriz[:,-1] = matrizCopy[:,0]\n",
    "\n",
    "matriz"
   ]
  },
  {
   "cell_type": "markdown",
   "metadata": {},
   "source": [
    "16. Troque de lugar a primeira linha com a útltima linha da matriz."
   ]
  },
  {
   "cell_type": "code",
   "execution_count": 82,
   "metadata": {},
   "outputs": [
    {
     "data": {
      "text/plain": [
       "array([[3, 2, 1],\n",
       "       [6, 5, 4],\n",
       "       [9, 8, 7]])"
      ]
     },
     "execution_count": 82,
     "metadata": {},
     "output_type": "execute_result"
    }
   ],
   "source": [
    "matrizCopy = matriz.copy()\n",
    "matriz[0,:] = matrizCopy[-1,:]\n",
    "matriz[-1,:] = matrizCopy[0,:]\n",
    "\n",
    "matriz"
   ]
  },
  {
   "cell_type": "markdown",
   "metadata": {},
   "source": [
    "17. Crie uma matriz  7 × 5 preenchida com números decimais aleatórios entre 1 e 5."
   ]
  },
  {
   "cell_type": "code",
   "execution_count": 115,
   "metadata": {},
   "outputs": [
    {
     "data": {
      "text/plain": [
       "array([[4.84906031, 0.03873704, 1.37117428, 0.81146773, 3.97487712],\n",
       "       [1.50134872, 2.27049715, 2.0631212 , 3.93706101, 0.72377331],\n",
       "       [2.24848756, 3.63993323, 0.12614414, 4.21112462, 0.88280815],\n",
       "       [2.12192913, 3.81892417, 4.08008441, 2.55197622, 4.64441423],\n",
       "       [3.98987993, 0.21197132, 1.13417161, 1.01703378, 2.24712654],\n",
       "       [1.94725332, 1.16234323, 1.98112167, 4.76405021, 3.50632694],\n",
       "       [2.2667991 , 3.92247722, 2.3534885 , 4.38884688, 2.33837067]])"
      ]
     },
     "execution_count": 115,
     "metadata": {},
     "output_type": "execute_result"
    }
   ],
   "source": [
    "values = []\n",
    "for i in range(7):\n",
    "    values.append(np.random.uniform(0.0, 5.0, (5,)))\n",
    "\n",
    "randomMatriz = np.array(values)\n",
    "randomMatriz"
   ]
  },
  {
   "cell_type": "markdown",
   "metadata": {},
   "source": [
    "18. Qual é o comprimento `len` da matriz?"
   ]
  },
  {
   "cell_type": "code",
   "execution_count": 116,
   "metadata": {},
   "outputs": [
    {
     "data": {
      "text/plain": [
       "7"
      ]
     },
     "execution_count": 116,
     "metadata": {},
     "output_type": "execute_result"
    }
   ],
   "source": [
    "len(randomMatriz)"
   ]
  },
  {
   "cell_type": "markdown",
   "metadata": {},
   "source": [
    "19. Quantas dimensões `ndim` a matriz possui?"
   ]
  },
  {
   "cell_type": "code",
   "execution_count": 117,
   "metadata": {},
   "outputs": [
    {
     "data": {
      "text/plain": [
       "2"
      ]
     },
     "execution_count": 117,
     "metadata": {},
     "output_type": "execute_result"
    }
   ],
   "source": [
    "np.ndim(randomMatriz)"
   ]
  },
  {
   "cell_type": "markdown",
   "metadata": {},
   "source": [
    "20. O que a função `shape` retorna?"
   ]
  },
  {
   "cell_type": "code",
   "execution_count": 118,
   "metadata": {},
   "outputs": [
    {
     "data": {
      "text/plain": [
       "(7, 5)"
      ]
     },
     "execution_count": 118,
     "metadata": {},
     "output_type": "execute_result"
    }
   ],
   "source": [
    "np.shape(randomMatriz)"
   ]
  },
  {
   "cell_type": "markdown",
   "metadata": {},
   "source": [
    "**Resposta**: Retorna o formato do vetor. Neste caso, o vetor possui 7 linhas, cada uma possuindo 5 colunas"
   ]
  },
  {
   "cell_type": "markdown",
   "metadata": {
    "tags": []
   },
   "source": [
    "# EXERCÍCIO: Análise de Dados dos Jogadores da FIFA ⚽"
   ]
  },
  {
   "cell_type": "markdown",
   "metadata": {},
   "source": [
    "Neste exercício, iremos usar a biblioteca NumPy para fazer uma análise de dados de jogares de futebol da FIFA disponíveis em [`data/fifa.csv`](data/fifa.csv). O conjunto de dados (dataset) foi adaptado da versão original disponibilizada nas plataformas: [Kaggle](https://www.kaggle.com/karangadiya/fifa19/data) e [GitHub](https://github.com/amanthedorkknight/fifa18-all-player-statistics).\n",
    "\n",
    "## Dicionário de Dados\n",
    "\n",
    "| Coluna        | Descrição                                        |\n",
    "|:--------------|:-------------------------------------------------|\n",
    "| id            | Identificador único do jogador                   |\n",
    "| nome          | Nome do jogador                                  |\n",
    "| foto          | URL da fotografia do jogador.                    |\n",
    "| nacionalidade | País do jogador.                                 |\n",
    "| avaliacao     | Avaliação geral do jogador.                      |\n",
    "| potencial     | Indicador da classificação potencial do jogador. |\n",
    "| time          | Nome do time do jogador.                         |\n",
    "| pe_preferido  | Direito (Destro), Esquerdo (Canhoto).            |\n",
    "| reputacao     | Reputação Internacional do jogador.              |\n",
    "| altura_cm     | Altura do jogador em centímetros (cm).           |\n",
    "| peso_kg       | Peso do jogador em kilos (kg).                   |\n",
    "| posicao       | Posição do jogador no time.                      |\n",
    "| numero_camisa | Número da camisa do jogador.                     |"
   ]
  },
  {
   "cell_type": "markdown",
   "metadata": {},
   "source": [
    "1. Importe o pacote numpy com o nome np."
   ]
  },
  {
   "cell_type": "code",
   "execution_count": 1,
   "metadata": {},
   "outputs": [],
   "source": [
    "import numpy as np"
   ]
  },
  {
   "cell_type": "markdown",
   "metadata": {},
   "source": [
    "2. Carregue o conjunto de dados da Fifa disponível na pasta (`data/fifa.csv`), ignorando a coluna `foto`, para uma matriz em uma variavel chamada `dados`. **Dicas:**\n",
    "    - Pesquise pela função `genfromtxt`; \n",
    "    - Não esqueça de especificar a codificação (encoding) como UTF-8;\n",
    "    - Ignore o cabeçalho dos dados usando o parâmetro `skip_header=True`"
   ]
  },
  {
   "cell_type": "code",
   "execution_count": 178,
   "metadata": {},
   "outputs": [
    {
     "data": {
      "text/plain": [
       "array([[b'158023', b'L. Messi', b'31', ..., b'72.121', b'RF', b'10'],\n",
       "       [b'20801', b'Cristiano Ronaldo', b'33', ..., b'83.007', b'ST',\n",
       "        b'7'],\n",
       "       [b'190871', b'Neymar Jr', b'26', ..., b'68.039', b'LW', b'10'],\n",
       "       ...,\n",
       "       [b'241638', b'B. Worman', b'16', ..., b'67.132', b'ST', b'33'],\n",
       "       [b'246268', b'D. Walker-Rice', b'17', ..., b'69.853', b'RW',\n",
       "        b'34'],\n",
       "       [b'246269', b'G. Nugent', b'16', ..., b'79.832', b'CM', b'33']],\n",
       "      dtype=object)"
      ]
     },
     "execution_count": 178,
     "metadata": {},
     "output_type": "execute_result"
    }
   ],
   "source": [
    "# remoção das colunas com links para imagens\n",
    "dados = np.genfromtxt('data/fifa18.csv', encoding='utf8', dtype=object, delimiter=',', skip_header=True, usecols=(0,1,2,4,5,6,7,8,9,10,11,12,13))\n",
    "\n",
    "#remocao dos jogadores sem algum tipo de registro dos dados físicos\n",
    "empty_lines = np.where(dados[:, 9:12] == b'')\n",
    "dados = np.delete(dados, empty_lines[0], axis=0)\n",
    "\n",
    "dados"
   ]
  },
  {
   "cell_type": "markdown",
   "metadata": {},
   "source": [
    "3. Quantas linhas foram lidas do arquivo?"
   ]
  },
  {
   "cell_type": "code",
   "execution_count": 179,
   "metadata": {},
   "outputs": [
    {
     "data": {
      "text/plain": [
       "18147"
      ]
     },
     "execution_count": 179,
     "metadata": {},
     "output_type": "execute_result"
    }
   ],
   "source": [
    "len(dados)"
   ]
  },
  {
   "cell_type": "markdown",
   "metadata": {},
   "source": [
    "4. Quantas dimensões sua variável `dados` possui?"
   ]
  },
  {
   "cell_type": "code",
   "execution_count": 144,
   "metadata": {},
   "outputs": [
    {
     "data": {
      "text/plain": [
       "2"
      ]
     },
     "execution_count": 144,
     "metadata": {},
     "output_type": "execute_result"
    }
   ],
   "source": [
    "np.ndim(dados)"
   ]
  },
  {
   "cell_type": "markdown",
   "metadata": {},
   "source": [
    "5. O que a função shape retorna?"
   ]
  },
  {
   "cell_type": "code",
   "execution_count": 145,
   "metadata": {},
   "outputs": [
    {
     "data": {
      "text/plain": [
       "(18147, 13)"
      ]
     },
     "execution_count": 145,
     "metadata": {},
     "output_type": "execute_result"
    }
   ],
   "source": [
    "np.shape(dados)"
   ]
  },
  {
   "cell_type": "markdown",
   "metadata": {},
   "source": [
    "**Resposta**: 18147 linhas com 13 colunas cada"
   ]
  },
  {
   "cell_type": "markdown",
   "metadata": {},
   "source": [
    "6. Mostre o dado que está na 3ª linha da 4ª coluna?"
   ]
  },
  {
   "cell_type": "code",
   "execution_count": 104,
   "metadata": {},
   "outputs": [
    {
     "data": {
      "text/plain": [
       "b'Brasil'"
      ]
     },
     "execution_count": 104,
     "metadata": {},
     "output_type": "execute_result"
    }
   ],
   "source": [
    "dados[2,3]"
   ]
  },
  {
   "cell_type": "markdown",
   "metadata": {},
   "source": [
    "7. Exiba os dados da primeira linha do dataset."
   ]
  },
  {
   "cell_type": "code",
   "execution_count": 105,
   "metadata": {},
   "outputs": [
    {
     "data": {
      "text/plain": [
       "array([b'158023', b'L. Messi', b'31', b'Argentina', b'94', b'94',\n",
       "       b'FC Barcelona', b'Esquerdo', b'5', b'170', b'72.121', b'RF',\n",
       "       b'10'], dtype=object)"
      ]
     },
     "execution_count": 105,
     "metadata": {},
     "output_type": "execute_result"
    }
   ],
   "source": [
    "dados[0]"
   ]
  },
  {
   "cell_type": "markdown",
   "metadata": {},
   "source": [
    "8. Mostre as 5 primeiras linhas do conjunto de dados."
   ]
  },
  {
   "cell_type": "code",
   "execution_count": 146,
   "metadata": {},
   "outputs": [
    {
     "data": {
      "text/plain": [
       "array([[b'158023', b'L. Messi', b'31', b'Argentina', b'94', b'94',\n",
       "        b'FC Barcelona', b'Esquerdo', b'5', b'170', b'72.121', b'RF',\n",
       "        b'10'],\n",
       "       [b'20801', b'Cristiano Ronaldo', b'33', b'Portugal', b'94', b'94',\n",
       "        b'Juventus', b'Direito', b'5', b'188', b'83.007', b'ST', b'7'],\n",
       "       [b'190871', b'Neymar Jr', b'26', b'Brasil', b'92', b'93',\n",
       "        b'Paris Saint-Germain', b'Direito', b'5', b'175', b'68.039',\n",
       "        b'LW', b'10'],\n",
       "       [b'193080', b'De Gea', b'27', b'Espanha', b'91', b'93',\n",
       "        b'Manchester United', b'Direito', b'4', b'193', b'76.204', b'GK',\n",
       "        b'1'],\n",
       "       [b'192985', b'K. De Bruyne', b'27', b'B\\xe9lgica', b'91', b'92',\n",
       "        b'Manchester City', b'Direito', b'4', b'155', b'69.853', b'RCM',\n",
       "        b'7']], dtype=object)"
      ]
     },
     "execution_count": 146,
     "metadata": {},
     "output_type": "execute_result"
    }
   ],
   "source": [
    "dados[0:5, :]"
   ]
  },
  {
   "cell_type": "markdown",
   "metadata": {},
   "source": [
    "9. Selecione todas as linhas da coluna `nome` (segunda coluna). **Dica:** use o operador `:`"
   ]
  },
  {
   "cell_type": "code",
   "execution_count": 147,
   "metadata": {},
   "outputs": [
    {
     "data": {
      "text/plain": [
       "array([b'L. Messi', b'Cristiano Ronaldo', b'Neymar Jr', ..., b'B. Worman',\n",
       "       b'D. Walker-Rice', b'G. Nugent'], dtype=object)"
      ]
     },
     "execution_count": 147,
     "metadata": {},
     "output_type": "execute_result"
    }
   ],
   "source": [
    "dados[:,1]"
   ]
  },
  {
   "cell_type": "markdown",
   "metadata": {},
   "source": [
    "10. Inicialize um vetor de inteiros NumPy chamado: **idades**; com todas as linhas da coluna `idade` (3ª coluna)."
   ]
  },
  {
   "cell_type": "code",
   "execution_count": 148,
   "metadata": {},
   "outputs": [
    {
     "data": {
      "text/plain": [
       "array([31, 33, 26, ..., 16, 17, 16], dtype=int8)"
      ]
     },
     "execution_count": 148,
     "metadata": {},
     "output_type": "execute_result"
    }
   ],
   "source": [
    "idades = dados[:,2].astype('int8')\n",
    "idades"
   ]
  },
  {
   "cell_type": "markdown",
   "metadata": {},
   "source": [
    "11. Qual é a média de idades dos jogadores?"
   ]
  },
  {
   "cell_type": "code",
   "execution_count": 149,
   "metadata": {},
   "outputs": [
    {
     "data": {
      "text/plain": [
       "25.12112194853144"
      ]
     },
     "execution_count": 149,
     "metadata": {},
     "output_type": "execute_result"
    }
   ],
   "source": [
    "mediaIdade = np.mean(idades)\n",
    "mediaIdade"
   ]
  },
  {
   "cell_type": "markdown",
   "metadata": {},
   "source": [
    "12. Qual é a maior idade do conjunto de dados?"
   ]
  },
  {
   "cell_type": "code",
   "execution_count": 110,
   "metadata": {},
   "outputs": [
    {
     "data": {
      "text/plain": [
       "45"
      ]
     },
     "execution_count": 110,
     "metadata": {},
     "output_type": "execute_result"
    }
   ],
   "source": [
    "maiorIdade = np.max(idades)\n",
    "maiorIdade"
   ]
  },
  {
   "cell_type": "markdown",
   "metadata": {},
   "source": [
    "13. Qual é a menor idade do conjunto de dados?"
   ]
  },
  {
   "cell_type": "code",
   "execution_count": 150,
   "metadata": {},
   "outputs": [
    {
     "data": {
      "text/plain": [
       "16"
      ]
     },
     "execution_count": 150,
     "metadata": {},
     "output_type": "execute_result"
    }
   ],
   "source": [
    "menorIdade = np.min(idades)\n",
    "menorIdade"
   ]
  },
  {
   "cell_type": "markdown",
   "metadata": {},
   "source": [
    "14. Selecione todos os jogadores que possuem a maior idade deste conjunto de dados. Quantas linhas retornaram? "
   ]
  },
  {
   "cell_type": "code",
   "execution_count": 151,
   "metadata": {},
   "outputs": [
    {
     "data": {
      "text/plain": [
       "array([[b'140029', b'O. P\\xe9rez', b'45', b'', b'71', b'71', b'Pachuca',\n",
       "        b'Direito', b'2', b'173', b'74.843', b'GK', b'21']], dtype=object)"
      ]
     },
     "execution_count": 151,
     "metadata": {},
     "output_type": "execute_result"
    }
   ],
   "source": [
    "velhos = dados[dados[:,2].astype('int8') == maiorIdade]\n",
    "velhos"
   ]
  },
  {
   "cell_type": "markdown",
   "metadata": {},
   "source": [
    "15. Selecione todos os jogadores que possuem a menor idade deste conjunto de dados. Quantas linhas retornaram? "
   ]
  },
  {
   "cell_type": "code",
   "execution_count": 152,
   "metadata": {},
   "outputs": [
    {
     "data": {
      "text/plain": [
       "array([[b'241266', b'W. Geubbels', b'16', b'', b'64', b'86',\n",
       "        b'AS Monaco', b'Direito', b'1', b'185', b'72.121', b'ST', b'13'],\n",
       "       [b'244403', b'A. Taoui', b'16', b'', b'64', b'75',\n",
       "        b'Toulouse Football Club', b'Esquerdo', b'1', b'152', b'68.946',\n",
       "        b'ST', b'35'],\n",
       "       [b'245616', b'Pelayo Morilla', b'16', b'', b'63', b'81',\n",
       "        b'Real Sporting de Gij\\xf3n', b'Esquerdo', b'1', b'183',\n",
       "        b'69.853', b'RM', b'31'],\n",
       "       [b'246465', b'Guerrero', b'16', b'', b'63', b'76',\n",
       "        b'CF Rayo Majadahonda', b'Esquerdo', b'1', b'155', b'74.843',\n",
       "        b'CM', b'26'],\n",
       "       [b'246594', b'H. Massengo', b'16', b'', b'62', b'75',\n",
       "        b'AS Monaco', b'Direito', b'1', b'152', b'66.224', b'CDM', b'42'],\n",
       "       [b'246419', b'Y. Verschaeren', b'16', b'', b'62', b'83',\n",
       "        b'RSC Anderlecht', b'Direito', b'1', b'173', b'63.049', b'CAM',\n",
       "        b'51'],\n",
       "       [b'245015', b'Y. Roemer', b'16', b'', b'59', b'75', b'VVV-Venlo',\n",
       "        b'Direito', b'1', b'155', b'69.853', b'ST', b'38'],\n",
       "       [b'243169', b'Y. Begraoui', b'16', b'', b'59', b'81',\n",
       "        b'AJ Auxerre', b'Direito', b'1', b'175', b'62.142', b'ST', b'19'],\n",
       "       [b'241650', b'J. Lahne', b'16', b'', b'59', b'77',\n",
       "        b'IF Brommapojkarna', b'Direito', b'1', b'170', b'68.039', b'ST',\n",
       "        b'25'],\n",
       "       [b'241552', b'J. Italiano', b'16', b'', b'58', b'79',\n",
       "        b'Perth Glory', b'Direito', b'1', b'170', b'64.864', b'LM',\n",
       "        b'26'],\n",
       "       [b'244728', b'S. Steijn', b'16', b'', b'58', b'72', b'VVV-Venlo',\n",
       "        b'Direito', b'1', b'173', b'60.781', b'CAM', b'35'],\n",
       "       [b'242531', b'J. Kitolano', b'16', b'', b'57', b'75', b'Odds BK',\n",
       "        b'Direito', b'1', b'170', b'69.853', b'LCM', b'16'],\n",
       "       [b'240562', b'D. Adshead', b'16', b'', b'57', b'77', b'Rochdale',\n",
       "        b'Direito', b'1', b'185', b'64.864', b'CM', b'25'],\n",
       "       [b'243646', b'B. Nygren', b'16', b'', b'56', b'73',\n",
       "        b'IFK G\\xf6teborg', b'Esquerdo', b'1', b'183', b'73.028', b'ST',\n",
       "        b'14'],\n",
       "       [b'243269', None, b'16', b'', b'55', b'71', b'Kayserispor',\n",
       "        b'Direito', b'1', b'155', b'69.853', b'CB', b'30'],\n",
       "       [b'245341', b'C. Bassett', b'16', b'', b'55', b'77',\n",
       "        b'Colorado Rapids', b'Direito', b'1', b'155', b'67.132', b'CDM',\n",
       "        b'26'],\n",
       "       [b'243353', b'B. Mumba', b'16', b'', b'55', b'80', b'Sunderland',\n",
       "        b'Direito', b'1', b'168', b'57.153', b'CM', b'37'],\n",
       "       [b'242074', b'R. G\\xf3mez', b'16', b'', b'55', b'76',\n",
       "        b'Belgrano de C\\xf3rdoba', b'Direito', b'1', b'170', b'64.864',\n",
       "        b'RM', b'18'],\n",
       "       [b'245171', b'H. Andersson', b'16', b'', b'55', b'70',\n",
       "        b'\\xd6rebro SK', b'Direito', b'1', b'191', b'68.039', b'CB',\n",
       "        b'46'],\n",
       "       [b'245485', b'P. Samiec-Talar', b'16', b'', b'55', b'73', None,\n",
       "        b'Direito', b'1', b'155', b'69.853', b'ST', b'24'],\n",
       "       [b'242240', b\"L. D'Arrigo\", b'16', b'', b'54', b'71',\n",
       "        b'Adelaide United', b'Direito', b'1', b'175', b'69.853', b'CAM',\n",
       "        b'27'],\n",
       "       [b'245470', b'K. Broda', b'16', b'', b'53', b'74', None,\n",
       "        b'Direito', b'1', b'191', b'84.822', b'GK', b'48'],\n",
       "       [b'244752', b'J. Olstad', b'16', b'', b'52', b'69',\n",
       "        b'Sarpsborg 08 FF', b'Direito', b'1', b'173', b'68.039', b'ST',\n",
       "        b'25'],\n",
       "       [b'245537', b'E. Ceide', b'16', b'', b'52', b'75',\n",
       "        b'Rosenborg BK', b'Direito', b'1', b'175', b'69.853', b'RW',\n",
       "        b'35'],\n",
       "       [b'245539', b'B. Waine', b'16', b'', b'52', b'66',\n",
       "        b'Wellington Phoenix', b'Direito', b'1', b'175', b'74.843',\n",
       "        b'ST', b'24'],\n",
       "       [b'246315', b'L. Smyth', b'16', b'', b'52', b'73', b'Stevenage',\n",
       "        b'Direito', b'1', b'152', b'72.121', b'ST', b'29'],\n",
       "       [b'244553', b'M. K\\xf6stenbauer', b'16', b'', b'52', b'74',\n",
       "        b'FC Admira Wacker M\\xf6dling', b'Direito', b'1', b'185',\n",
       "        b'69.853', b'GK', b'28'],\n",
       "       [b'245123', b'A. Mahlonoko', b'16', b'', b'52', b'71',\n",
       "        b'Orlando Pirates', b'Direito', b'1', b'173', b'58.967', b'CAM',\n",
       "        b'38'],\n",
       "       [b'244925', b'F. Tauchhammer', b'16', b'', b'52', b'71',\n",
       "        b'Wolfsberger AC', b'Direito', b'1', b'183', b'63.957', b'RB',\n",
       "        b'25'],\n",
       "       [b'242165', b'R. Hauge', b'16', b'', b'52', b'67',\n",
       "        b'FK Bod\\xf8/Glimt', b'Direito', b'1', b'175', b'69.853', b'CM',\n",
       "        b'34'],\n",
       "       [b'246009', b'M. Tilio', b'16', b'', b'52', b'69', b'Sydney FC',\n",
       "        b'Esquerdo', b'1', b'170', b'67.132', b'CAM', b'27'],\n",
       "       [b'246601', b'J. Rowland', b'16', b'', b'51', b'66',\n",
       "        b'Shrewsbury', b'Direito', b'1', b'165', b'64.864', b'CAM',\n",
       "        b'35'],\n",
       "       [b'243891', b'M. Larsen', b'16', b'', b'51', b'71', b'Esbjerg fB',\n",
       "        b'Direito', b'1', b'155', b'68.946', b'CM', b'50'],\n",
       "       [b'239594', b'J. Imbrechts', b'16', b'', b'51', b'72',\n",
       "        b'Sporting de Charleroi', b'Direito', b'1', b'155', b'68.039',\n",
       "        b'GK', b'12'],\n",
       "       [b'243722', b\"B. O'Gorman\", b'16', b'', b'50', b'69',\n",
       "        b'Bray Wanderers', b'Direito', b'1', b'175', b'73.028', b'RM',\n",
       "        b'26'],\n",
       "       [b'246109', b'K. Lara', b'16', b'', b'50', b'74',\n",
       "        b'Atl\\xe9tico Huila', b'Direito', b'1', b'170', b'64.864', b'RB',\n",
       "        b'3'],\n",
       "       [b'243685', b'J. Cleary', b'16', b'', b'50', b'72',\n",
       "        b'Bohemian FC', b'Direito', b'1', b'152', b'72.121', b'GK',\n",
       "        b'30'],\n",
       "       [b'245808', b'G. Hollywood', b'16', b'', b'49', b'67',\n",
       "        b'Bray Wanderers', b'Direito', b'1', b'152', b'66.224', b'CM',\n",
       "        b'16'],\n",
       "       [b'243866', b'T. Gundelund', b'16', b'', b'48', b'66',\n",
       "        b'Vejle Boldklub', b'Direito', b'1', b'155', b'69.853', b'RWB',\n",
       "        b'14'],\n",
       "       [b'243621', b'N. Ay\\xe9va', b'16', b'', b'48', b'72',\n",
       "        b'\\xd6rebro SK', b'Direito', b'1', b'152', b'69.853', b'ST',\n",
       "        b'23'],\n",
       "       [b'241638', b'B. Worman', b'16', b'', b'47', b'67',\n",
       "        b'Cambridge United', b'Direito', b'1', b'173', b'67.132', b'ST',\n",
       "        b'33'],\n",
       "       [b'246269', b'G. Nugent', b'16', b'', b'46', b'66',\n",
       "        b'Tranmere Rovers', b'Direito', b'1', b'152', b'79.832', b'CM',\n",
       "        b'33']], dtype=object)"
      ]
     },
     "execution_count": 152,
     "metadata": {},
     "output_type": "execute_result"
    }
   ],
   "source": [
    "novos = dados[dados[:,2].astype('int8') == menorIdade]\n",
    "novos"
   ]
  },
  {
   "cell_type": "markdown",
   "metadata": {},
   "source": [
    "16. Selecione todos os jogadores brasileiros para uma variável chamada dados_brasil. Use `b'Brasil'` para fazer a comparação."
   ]
  },
  {
   "cell_type": "code",
   "execution_count": 153,
   "metadata": {},
   "outputs": [
    {
     "data": {
      "text/plain": [
       "array([[b'190871', b'Neymar Jr', b'26', b'Brasil', b'92', b'93',\n",
       "        b'Paris Saint-Germain', b'Direito', b'5', b'175', b'68.039',\n",
       "        b'LW', b'10'],\n",
       "       [b'200145', b'Casemiro', b'26', b'Brasil', b'88', b'90',\n",
       "        b'Real Madrid', b'Direito', b'3', b'185', b'83.915', b'CDM',\n",
       "        b'14'],\n",
       "       [b'189242', b'Coutinho', b'26', b'Brasil', b'88', b'89',\n",
       "        b'FC Barcelona', b'Direito', b'3', b'173', b'68.039', b'LW',\n",
       "        b'7'],\n",
       "       [b'176676', b'Marcelo', b'30', b'Brasil', b'88', b'88',\n",
       "        b'Real Madrid', b'Esquerdo', b'4', b'175', b'79.832', b'LB',\n",
       "        b'12'],\n",
       "       [b'164240', b'Thiago Silva', b'33', b'Brasil', b'88', b'88',\n",
       "        b'Paris Saint-Germain', b'Direito', b'4', b'183', b'82.100',\n",
       "        b'RCB', b'2'],\n",
       "       [b'210257', b'Ederson', b'24', b'Brasil', b'86', b'90',\n",
       "        b'Manchester City', b'Esquerdo', b'2', b'188', b'86.183', b'GK',\n",
       "        b'31'],\n",
       "       [b'201942', b'Roberto Firmino', b'26', b'Brasil', b'86', b'87',\n",
       "        b'Liverpool', b'Direito', b'3', b'155', b'76.204', b'CAM', b'9'],\n",
       "       [b'191043', b'Alex Sandro', b'27', b'Brasil', b'86', b'86',\n",
       "        b'Juventus', b'Esquerdo', b'3', b'155', b'79.832', b'LB', b'12'],\n",
       "       [b'190483', b'Douglas Costa', b'27', b'Brasil', b'86', b'86',\n",
       "        b'Juventus', b'Esquerdo', b'3', b'173', b'69.853', b'LM', b'11'],\n",
       "       [b'135507', b'Fernandinho', b'33', b'Brasil', b'86', b'86',\n",
       "        b'Manchester City', b'Direito', b'3', b'152', b'67.132', b'CDM',\n",
       "        b'25'],\n",
       "       [b'212831', b'Alisson', b'25', b'Brasil', b'85', b'90',\n",
       "        b'Liverpool', b'Direito', b'3', b'191', b'91.172', b'GK', b'13'],\n",
       "       [b'187961', b'Paulinho', b'29', b'Brasil', b'85', b'85',\n",
       "        b'Guangzhou Evergrande Taobao FC', b'Direito', b'3', b'183',\n",
       "        b'71.214', b'LDM', b'9'],\n",
       "       [b'171919', b'Naldo', b'35', b'Brasil', b'85', b'85',\n",
       "        b'FC Schalke 04', b'Direito', b'3', b'198', b'91.172', b'CB',\n",
       "        b'29'],\n",
       "       [b'168609', b'Miranda', b'33', b'Brasil', b'85', b'85', b'Inter',\n",
       "        b'Direito', b'3', b'185', b'78.018', b'CB', b'23'],\n",
       "       [b'164169', b'Filipe Lu\\xeds', b'32', b'Brasil', b'85', b'85',\n",
       "        b'Atl\\xe9tico Madrid', b'Esquerdo', b'3', b'183', b'73.936',\n",
       "        b'LB', b'3'],\n",
       "       [b'212462', b'Alex Telles', b'25', b'Brasil', b'84', b'87',\n",
       "        b'FC Porto', b'Esquerdo', b'3', b'155', b'71.214', b'LB', b'13'],\n",
       "       [b'209499', b'Fabinho', b'24', b'Brasil', b'84', b'88',\n",
       "        b'Liverpool', b'Direito', b'3', b'188', b'78.018', b'CDM', b'3'],\n",
       "       [b'207865', b'Marquinhos', b'24', b'Brasil', b'84', b'89',\n",
       "        b'Paris Saint-Germain', b'Direito', b'3', b'183', b'74.843',\n",
       "        b'LDM', b'5'],\n",
       "       [b'180403', b'Willian', b'29', b'Brasil', b'84', b'84',\n",
       "        b'Chelsea', b'Direito', b'3', b'175', b'78.018', b'RW', b'22'],\n",
       "       [b'176769', b'Jonas', b'34', b'Brasil', b'84', b'84',\n",
       "        b'SL Benfica', b'Direito', b'3', b'155', b'73.936', b'ST', b'10'],\n",
       "       [b'230666', b'Gabriel Jesus', b'21', b'Brasil', b'83', b'92',\n",
       "        b'Manchester City', b'Direito', b'2', b'175', b'73.028', b'ST',\n",
       "        b'33'],\n",
       "       [b'230481', b'Ronaldo Cabrais', b'26', b'Brasil', b'83', b'83',\n",
       "        b'Gr\\xeamio', b'Direito', b'1', b'152', b'74.843', b'RW', b'7'],\n",
       "       [b'230375', b'Josu\\xe9 Chiamulera', b'26', b'Brasil', b'83',\n",
       "        b'83', b'Gr\\xeamio', b'Direito', b'1', b'185', b'79.832', b'LCB',\n",
       "        b'4'],\n",
       "       [b'230294', b'Louri Beretta', b'26', b'Brasil', b'83', b'83',\n",
       "        b'Atl\\xe9tico Mineiro', b'Direito', b'1', b'188', b'83.007',\n",
       "        b'ST', b'9'],\n",
       "       [b'212523', b'Anderson Talisca', b'24', b'Brasil', b'83', b'90',\n",
       "        b'Guangzhou Evergrande Taobao FC', b'Esquerdo', b'2', b'191',\n",
       "        b'79.832', b'CAM', b'24'],\n",
       "       [b'207863', b'Felipe', b'29', b'Brasil', b'83', b'83',\n",
       "        b'FC Porto', b'Direito', b'3', b'191', b'86.183', b'RCB', b'28'],\n",
       "       [b'201995', b'Felipe Anderson', b'25', b'Brasil', b'83', b'85',\n",
       "        b'West Ham United', b'Direito', b'3', b'175', b'69.853', b'LM',\n",
       "        b'8'],\n",
       "       [b'200949', b'Lucas Moura', b'25', b'Brasil', b'83', b'84',\n",
       "        b'Tottenham Hotspur', b'Direito', b'3', b'175', b'69.853', b'RM',\n",
       "        b'27'],\n",
       "       [b'199914', b'Allan', b'27', b'Brasil', b'83', b'83', b'Napoli',\n",
       "        b'Direito', b'2', b'175', b'73.936', b'RCM', b'5'],\n",
       "       [b'194404', b'Neto', b'28', b'Brasil', b'83', b'84',\n",
       "        b'Valencia CF', b'Direito', b'2', b'191', b'83.915', b'GK',\n",
       "        b'13'],\n",
       "       [b'188152', b'Oscar', b'26', b'Brasil', b'83', b'84',\n",
       "        b'Shanghai SIPG FC', b'Direito', b'3', b'152', b'66.224', b'LCM',\n",
       "        b'8'],\n",
       "       [b'185221', b'Luiz Gustavo', b'30', b'Brasil', b'83', b'83',\n",
       "        b'Olympique de Marseille', b'Esquerdo', b'3', b'188', b'78.018',\n",
       "        b'LCB', b'19'],\n",
       "       [b'184942', b'Giuliano', b'28', b'Brasil', b'83', b'83',\n",
       "        b'Al Nassr', b'Direito', b'2', b'173', b'68.039', b'CAM', b'77'],\n",
       "       [b'179944', b'David Luiz', b'31', b'Brasil', b'83', b'83',\n",
       "        b'Chelsea', b'Direito', b'4', b'188', b'86.183', b'LCB', b'30'],\n",
       "       [b'176266', b'Lucas Leiva', b'31', b'Brasil', b'83', b'83',\n",
       "        b'Lazio', b'Direito', b'3', b'152', b'78.018', b'LDM', b'6'],\n",
       "       [b'230658', b'Arthur', b'21', b'Brasil', b'82', b'90',\n",
       "        b'FC Barcelona', b'Direito', b'1', b'170', b'73.028', b'LCM',\n",
       "        b'8'],\n",
       "       [b'230258', b'Rosberto Dourado', b'30', b'Brasil', b'82', b'82',\n",
       "        b'Atl\\xe9tico Mineiro', b'Direito', b'1', b'175', b'69.853',\n",
       "        b'RCM', b'13'],\n",
       "       [b'230225', b'Juiano Mestres', b'34', b'Brasil', b'82', b'82',\n",
       "        b'Cruzeiro', b'Direito', b'1', b'155', b'82.100', b'RCB', b'3'],\n",
       "       [b'230168', b'Raphaelito Anjos', b'30', b'Brasil', b'82', b'82',\n",
       "        b'Gr\\xeamio', b'Direito', b'1', b'191', b'84.822', b'GK', b'1'],\n",
       "       [b'222737', b'Malcom', b'21', b'Brasil', b'82', b'89',\n",
       "        b'FC Barcelona', b'Esquerdo', b'2', b'173', b'73.936', b'RW',\n",
       "        b'14'],\n",
       "       [b'209297', b'Fred', b'25', b'Brasil', b'82', b'84',\n",
       "        b'Manchester United', b'Esquerdo', b'1', b'170', b'63.957',\n",
       "        b'CM', b'17'],\n",
       "       [b'201400', b'Rafinha', b'25', b'Brasil', b'82', b'87',\n",
       "        b'FC Barcelona', b'Esquerdo', b'2', b'175', b'71.214', b'CAM',\n",
       "        b'12'],\n",
       "       [b'201305', b'Gabriel Paulista', b'27', b'Brasil', b'82', b'83',\n",
       "        b'Valencia CF', b'Direito', b'2', b'188', b'78.925', b'LCB',\n",
       "        b'5'],\n",
       "       [b'195093', b'Willian Jos\\xe9', b'26', b'Brasil', b'82', b'83',\n",
       "        b'Real Sociedad', b'Direito', b'2', b'188', b'92.986', b'ST',\n",
       "        b'12'],\n",
       "       [b'188803', b'Taison', b'30', b'Brasil', b'82', b'82',\n",
       "        b'Shakhtar Donetsk', b'Direito', b'2', b'173', b'63.957', b'LM',\n",
       "        b'7'],\n",
       "       [b'168530', b'Jardel', b'32', b'Brasil', b'82', b'82',\n",
       "        b'SL Benfica', b'Direito', b'2', b'193', b'87.090', b'LCB',\n",
       "        b'33'],\n",
       "       [b'146530', b'Dani Alves', b'35', b'Brasil', b'82', b'82',\n",
       "        b'Paris Saint-Germain', b'Direito', b'4', b'173', b'68.039',\n",
       "        b'RB', b'13'],\n",
       "       [b'230271', b'Laure Santeiro', b'30', b'Brasil', b'81', b'81',\n",
       "        b'Fluminense', b'Esquerdo', b'1', b'170', b'63.049', b'CAM',\n",
       "        b'8'],\n",
       "       [b'189362', b'Hulk', b'31', b'Brasil', b'81', b'81',\n",
       "        b'Shanghai SIPG FC', b'Esquerdo', b'4', b'155', b'84.822',\n",
       "        b'RCM', b'10'],\n",
       "       [b'169195', b'Renato Augusto', b'30', b'Brasil', b'81', b'81',\n",
       "        b'Beijing Sinobo Guoan FC', b'Direito', b'2', b'185', b'86.183',\n",
       "        b'LCM', b'5'],\n",
       "       [b'144622', b'Raffael', b'33', b'Brasil', b'81', b'81',\n",
       "        b'Borussia M\\xf6nchengladbach', b'Direito', b'2', b'175',\n",
       "        b'68.946', b'CF', b'11'],\n",
       "       [b'230347', b'Welington Dano', b'30', b'Brasil', b'80', b'80',\n",
       "        b'Cruzeiro', b'Esquerdo', b'1', b'152', b'68.946', b'LB', b'5'],\n",
       "       [b'230234', b'Everton Andr\\xe3o', b'34', b'Brasil', b'80', b'80',\n",
       "        b'Fluminense', b'Direito', b'1', b'152', b'74.843', b'CDM', b'6'],\n",
       "       [b'221540', b'Ra\\xfal', b'28', b'Brasil', b'80', b'80',\n",
       "        b'SC Braga', b'Esquerdo', b'1', b'188', b'81.193', b'CB', b'34'],\n",
       "       [b'205525', b'Bernard', b'25', b'Brasil', b'80', b'81',\n",
       "        b'Everton', b'Direito', b'2', b'165', b'59.874', b'LM', b'20'],\n",
       "       [b'201119', b'Ismaily', b'28', b'Brasil', b'80', b'80',\n",
       "        b'Shakhtar Donetsk', b'Esquerdo', b'1', b'152', b'82.100', b'LB',\n",
       "        b'31'],\n",
       "       [b'191687', b'Maicon', b'29', b'Brasil', b'80', b'80',\n",
       "        b'Galatasaray SK', b'Direito', b'2', b'191', b'88.904', b'CB',\n",
       "        b'3'],\n",
       "       [b'180334', b'Marcelo', b'31', b'Brasil', b'80', b'80',\n",
       "        b'Olympique Lyonnais', b'Direito', b'2', b'191', b'84.822',\n",
       "        b'RCB', b'6'],\n",
       "       [b'180175', b'Alexandre Pato', b'28', b'Brasil', b'80', b'80',\n",
       "        b'Tianjin Quanjian FC', b'Direito', b'3', b'155', b'81.193',\n",
       "        b'ST', b'10'],\n",
       "       [b'158625', b'Dante', b'34', b'Brasil', b'80', b'80', b'OGC Nice',\n",
       "        b'Esquerdo', b'3', b'188', b'84.822', b'CB', b'31'],\n",
       "       [b'236632', b'David Neres', b'21', b'Brasil', b'79', b'86',\n",
       "        b'Ajax', b'Esquerdo', b'2', b'175', b'66.224', b'RW', b'7'],\n",
       "       [b'233419', b'Raphinha', b'21', b'Brasil', b'79', b'86',\n",
       "        b'Sporting CP', b'Esquerdo', b'1', b'175', b'68.039', b'RM',\n",
       "        b'21'],\n",
       "       [b'231943', b'Richarlison', b'21', b'Brasil', b'79', b'86',\n",
       "        b'Everton', b'Direito', b'1', b'155', b'69.853', b'ST', b'30'],\n",
       "       [b'230498', b'Luimo Boas Santos', b'30', b'Brasil', b'79', b'79',\n",
       "        b'Santos', b'Direito', b'1', b'175', b'73.028', b'ST', b'11'],\n",
       "       [b'230312', b'Gabri Prest\\xe3o', b'26', b'Brasil', b'79', b'79',\n",
       "        b'Internacional', b'Direito', b'1', b'185', b'79.832', b'GK',\n",
       "        b'12'],\n",
       "       [b'230251', b'Melvin Parrela', b'30', b'Brasil', b'79', b'79',\n",
       "        b'Am\\xe9rica FC (Minas Gerais)', b'Direito', b'1', b'188',\n",
       "        b'87.997', b'LCM', b'14'],\n",
       "       [b'230212', b'Ant\\xf4nio Chiamuloira', b'30', b'Brasil', b'79',\n",
       "        b'79', b'Internacional', b'Esquerdo', b'1', b'183', b'78.925',\n",
       "        b'CB', b'15'],\n",
       "       [b'230201', b'Maikel Catarino', b'34', b'Brasil', b'79', b'79',\n",
       "        b'Atl\\xe9tico Mineiro', b'Direito', b'1', b'152', b'74.843',\n",
       "        b'RB', b'2'],\n",
       "       [b'210411', b'Ot\\xe1vio', b'23', b'Brasil', b'79', b'85',\n",
       "        b'FC Porto', b'Direito', b'1', b'173', b'71.214', b'RM', b'25']],\n",
       "      dtype=object)"
      ]
     },
     "execution_count": 153,
     "metadata": {},
     "output_type": "execute_result"
    }
   ],
   "source": [
    "brasileiros = dados[dados[:,3] == b'Brasil']\n",
    "brasileiros"
   ]
  },
  {
   "cell_type": "markdown",
   "metadata": {},
   "source": [
    "17. Quantos são os jogadores brasileiros?"
   ]
  },
  {
   "cell_type": "code",
   "execution_count": 154,
   "metadata": {},
   "outputs": [
    {
     "data": {
      "text/plain": [
       "69"
      ]
     },
     "execution_count": 154,
     "metadata": {},
     "output_type": "execute_result"
    }
   ],
   "source": [
    "len(brasileiros)"
   ]
  },
  {
   "cell_type": "markdown",
   "metadata": {},
   "source": [
    "18. Para as colunas `idade`, `altura` e `peso`, calcule:\n",
    "    - Média\n",
    "    - Mediana\n",
    "    - Máximo\n",
    "    - Mínimo"
   ]
  },
  {
   "cell_type": "code",
   "execution_count": 165,
   "metadata": {},
   "outputs": [
    {
     "name": "stdout",
     "output_type": "stream",
     "text": [
      "- Média das idades: 25.12112194853144\n",
      "- Mediana das idades: 25.0\n",
      "- Maior idade: 45\n",
      "- Menor idade: 16\n",
      "\n",
      "- Média das alturas: 174.75 cm\n",
      "- Mediana das alturas: 175.0 cm\n",
      "- Maior altura: 206.0 cm\n",
      "- Menor altura: 152.0 cm\n",
      "\n",
      "- Média dos pesos: 75.3125 kg\n",
      "- Mediana dos pesos: 74.8125 kg\n",
      "- Maior peso: 110.25 kg\n",
      "- Menor peso: 49.90625 kg\n"
     ]
    }
   ],
   "source": [
    "idades = dados[:,2].astype('int8')\n",
    "alturas = dados[:,9].astype('float16')\n",
    "pesos = dados[:,10].astype('float16')\n",
    "\n",
    "print(f'- Média das idades: {idades.mean()}')\n",
    "print(f'- Mediana das idades: {np.median(idades)}')\n",
    "print(f'- Maior idade: {idades.max()}')\n",
    "print(f'- Menor idade: {idades.min()}')\n",
    "\n",
    "print(f'\\n- Média das alturas: {alturas.mean()} cm')\n",
    "print(f'- Mediana das alturas: {np.median(alturas)} cm')\n",
    "print(f'- Maior altura: {alturas.max()} cm')\n",
    "print(f'- Menor altura: {alturas.min()} cm')\n",
    "\n",
    "print(f'\\n- Média dos pesos: {pesos.mean()} kg')\n",
    "print(f'- Mediana dos pesos: {np.median(pesos)} kg')\n",
    "print(f'- Maior peso: {pesos.max()} kg')\n",
    "print(f'- Menor peso: {pesos.min()} kg')"
   ]
  },
  {
   "cell_type": "markdown",
   "metadata": {},
   "source": [
    "19. Calcule o desvio padrão da `reputação` dos jogadores brasileiros"
   ]
  },
  {
   "cell_type": "code",
   "execution_count": 169,
   "metadata": {},
   "outputs": [
    {
     "data": {
      "text/plain": [
       "1.0093034983466755"
      ]
     },
     "execution_count": 169,
     "metadata": {},
     "output_type": "execute_result"
    }
   ],
   "source": [
    "brazilianRep = dados[dados[:,3] == b'Brasil', 8].astype('int8')\n",
    "desvPad = np.std(brazilianRep)\n",
    "\n",
    "desvPad"
   ]
  },
  {
   "cell_type": "markdown",
   "metadata": {},
   "source": [
    "20. Qual jogador brasileiro tem menor pontencial?"
   ]
  },
  {
   "cell_type": "code",
   "execution_count": 176,
   "metadata": {},
   "outputs": [
    {
     "data": {
      "text/plain": [
       "array([[b'230498', b'Luimo Boas Santos', b'30', b'Brasil', b'79', b'79',\n",
       "        b'Santos', b'Direito', b'1', b'175', b'73.028', b'ST', b'11'],\n",
       "       [b'230312', b'Gabri Prest\\xe3o', b'26', b'Brasil', b'79', b'79',\n",
       "        b'Internacional', b'Direito', b'1', b'185', b'79.832', b'GK',\n",
       "        b'12'],\n",
       "       [b'230251', b'Melvin Parrela', b'30', b'Brasil', b'79', b'79',\n",
       "        b'Am\\xe9rica FC (Minas Gerais)', b'Direito', b'1', b'188',\n",
       "        b'87.997', b'LCM', b'14'],\n",
       "       [b'230212', b'Ant\\xf4nio Chiamuloira', b'30', b'Brasil', b'79',\n",
       "        b'79', b'Internacional', b'Esquerdo', b'1', b'183', b'78.925',\n",
       "        b'CB', b'15'],\n",
       "       [b'230201', b'Maikel Catarino', b'34', b'Brasil', b'79', b'79',\n",
       "        b'Atl\\xe9tico Mineiro', b'Direito', b'1', b'152', b'74.843',\n",
       "        b'RB', b'2']], dtype=object)"
      ]
     },
     "execution_count": 176,
     "metadata": {},
     "output_type": "execute_result"
    }
   ],
   "source": [
    "brazilianPots = dados[dados[:,3] == b'Brasil', 5].astype('int8')\n",
    "menorBraPot =  dados[np.logical_and(dados[:,3] == b'Brasil', dados[:,5].astype('int8') == brazilianPots.min())]\n",
    "\n",
    "menorBraPot"
   ]
  }
 ],
 "metadata": {
  "kernelspec": {
   "display_name": "Python 3 (ipykernel)",
   "language": "python",
   "name": "python3"
  },
  "language_info": {
   "codemirror_mode": {
    "name": "ipython",
    "version": 3
   },
   "file_extension": ".py",
   "mimetype": "text/x-python",
   "name": "python",
   "nbconvert_exporter": "python",
   "pygments_lexer": "ipython3",
   "version": "3.9.12"
  }
 },
 "nbformat": 4,
 "nbformat_minor": 4
}
