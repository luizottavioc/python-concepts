{
 "cells": [
  {
   "cell_type": "markdown",
   "metadata": {},
   "source": [
    "## Exercícios"
   ]
  },
  {
   "cell_type": "markdown",
   "metadata": {},
   "source": [
    "1. A nota final de um estudante é calculada a partir de três notas atribuídas, respectivamente, a um trabalho\n",
    "de laboratório, a uma avaliação semestral e a um exame final. A média das três notas mencionadas\n",
    "obedece aos pesos a seguir:\n",
    "\n",
    "| Nota                    | Peso |\n",
    "|-------------------------|------|\n",
    "| Trabalho de Laboratório | 2    |\n",
    "| Avaliação Semestral     | 3    |\n",
    "| Exame Final             | 5    |\n",
    "\n",
    "\n",
    "Faça um programa que receba as três notas, calcule e mostre a média ponderada e o conceito que segue\n",
    "a tabela:\n",
    "\n",
    "| Média Ponderada        | Conceito |\n",
    "|------------------------|----------|\n",
    "| 8,00 <= Média <= 10,00 | A        |\n",
    "| 7,00 <= Média < 8,00   | B        |\n",
    "| 6,00 <= Média < 7,00   | C        |\n",
    "| 5,00 <= Média < 6,00   | D        |\n",
    "| 0,00 <= Média < 5,00   | E        |\n",
    "\n"
   ]
  },
  {
   "cell_type": "code",
   "execution_count": 19,
   "metadata": {},
   "outputs": [
    {
     "name": "stdin",
     "output_type": "stream",
     "text": [
      "Digite a nota do trabalho de laboratório:  7\n",
      "Digite a nota da avaliação semestral:  5\n",
      "Digite a nota do exame final:  8\n"
     ]
    },
    {
     "name": "stdout",
     "output_type": "stream",
     "text": [
      "\n",
      "Conceito final das notas: C (6.9)\n"
     ]
    }
   ],
   "source": [
    "import sys\n",
    "\n",
    "nLab = float(input(\"Digite a nota do trabalho de laboratório: \"))\n",
    "nSem = float(input(\"Digite a nota da avaliação semestral: \"))\n",
    "nFin = float(input(\"Digite a nota do exame final: \"))\n",
    "\n",
    "res = round(((nLab*2)+(nSem*3)+(nFin*5))/10, 3)\n",
    "conc = ''\n",
    "\n",
    "if(res<0):\n",
    "    sys.exit('Média negativa. Confira os valores informados!')\n",
    "elif(res<5):\n",
    "    conc = 'E'\n",
    "elif(res<6):\n",
    "    conc = 'D'\n",
    "elif(res<7):\n",
    "    conc = 'C'\n",
    "elif(res<8):\n",
    "    conc = 'B'\n",
    "elif(res<=10):\n",
    "    conc = 'A'\n",
    "else:\n",
    "    sys.exit('Média maior que a escala. Confira os valores informados!')\n",
    "\n",
    "print(f'\\nConceito final das notas: {conc} ({res})')"
   ]
  },
  {
   "cell_type": "markdown",
   "metadata": {},
   "source": [
    "2. Faça um programa que receba três notas de um aluno, calcule e mostre a média aritmética e a mensagem constante na tabela a seguir. \n",
    "\n",
    "| Média                  | Situação       |\n",
    "|------------------------|----------------|\n",
    "| 7,00 <= Média <= 10,00 | Aprovado       |\n",
    "| 3,00 <= Média < 7,00   | Exame Especial |\n",
    "| 0,00 <= Média < 3,00   | Reprovado      |"
   ]
  },
  {
   "cell_type": "code",
   "execution_count": 17,
   "metadata": {},
   "outputs": [
    {
     "name": "stdin",
     "output_type": "stream",
     "text": [
      "Digite a nota da prova:  7\n",
      "Digite a nota da prova:  8\n",
      "Digite a nota da prova:  6\n"
     ]
    },
    {
     "name": "stdout",
     "output_type": "stream",
     "text": [
      "\n",
      "Conceito final: Aprovado (7.0)\n"
     ]
    }
   ],
   "source": [
    "tot = 0\n",
    "qtd = 0\n",
    "\n",
    "for i in range(3):\n",
    "    tot += float(input(\"Digite a nota da prova: \"))\n",
    "    qtd += 1\n",
    "\n",
    "res = round(tot/qtd, 3)\n",
    "sit = ''\n",
    "\n",
    "if(res<0):\n",
    "    sys.exit('Média negativa. Confira os valores informados!')\n",
    "elif(res<3):\n",
    "    sit = 'Reprovado'\n",
    "elif(res<7):\n",
    "    sit = 'Exame especial'\n",
    "elif(res<=10):\n",
    "    sit = 'Aprovado'\n",
    "else:\n",
    "    sys.exit('Média maior que a escala. Confira os valores informados!')\n",
    "\n",
    "print(f'\\nConceito final: {sit} ({res})')"
   ]
  },
  {
   "cell_type": "markdown",
   "metadata": {},
   "source": [
    "3. Faça um programa que receba dois números e mostre o maior."
   ]
  },
  {
   "cell_type": "code",
   "execution_count": 21,
   "metadata": {},
   "outputs": [
    {
     "name": "stdin",
     "output_type": "stream",
     "text": [
      "Digite o primeiro número:  2\n",
      "Digite o segundo número:  2\n"
     ]
    },
    {
     "name": "stdout",
     "output_type": "stream",
     "text": [
      "\n",
      "Os números são iguais!\n"
     ]
    }
   ],
   "source": [
    "n1 = float(input(\"Digite o primeiro número: \"))\n",
    "n2 = float(input(\"Digite o segundo número: \"))\n",
    "print(f'\\nMaior número: {n1}') if n1>n2 else print(f'\\nMaior número: {n2}') if n1<n2 else print('\\nOs números são iguais!')"
   ]
  },
  {
   "cell_type": "markdown",
   "metadata": {},
   "source": [
    "4. Faça um programa que receba um número inteiro e verifique se é par ou ímpar."
   ]
  },
  {
   "cell_type": "code",
   "execution_count": 23,
   "metadata": {},
   "outputs": [
    {
     "name": "stdin",
     "output_type": "stream",
     "text": [
      "Digite seu número:  5\n"
     ]
    },
    {
     "name": "stdout",
     "output_type": "stream",
     "text": [
      "\n",
      "Este número é impar!\n"
     ]
    }
   ],
   "source": [
    "n = float(input(\"Digite seu número: \"))\n",
    "print(f'\\nEste número é par!') if n % 2 == 0 else print(f'\\nEste número é impar!')"
   ]
  },
  {
   "cell_type": "markdown",
   "metadata": {},
   "source": [
    "5. Faça um programa que mostre o menu de opções a seguir, receba a opção do usuário e os dados necessários para executar cada operação.\n",
    "\n",
    "Menu de opções:\n",
    "\n",
    "1. Somar dois números.\n",
    "2. Raiz quadrada de um número.\n",
    "\n",
    "Digite a opção desejada:"
   ]
  },
  {
   "cell_type": "code",
   "execution_count": 30,
   "metadata": {},
   "outputs": [
    {
     "name": "stdin",
     "output_type": "stream",
     "text": [
      "1. Soma\n",
      "2. Raíz quadrada\n",
      "- Digite o tipo de operação que você deseja realizar: 2\n",
      "\n",
      "Digite o número:  16\n"
     ]
    },
    {
     "name": "stdout",
     "output_type": "stream",
     "text": [
      "\n",
      "- Resultado da raíz quadrada: 4.0\n"
     ]
    }
   ],
   "source": [
    "import sys\n",
    "import math\n",
    "\n",
    "type = int(input('1. Soma\\n2. Raíz quadrada\\n- Digite o tipo de operação que você deseja realizar:'))\n",
    "if(type != 1 and type != 2):\n",
    "    sys.exit('O número informado é não válido')\n",
    "\n",
    "n1 = float(input('\\nDigite o número: '))\n",
    "\n",
    "if(type == 1):\n",
    "    n2 = float(input('Agora, o segundo número para a soma: '))\n",
    "    print(f'\\n- Resultado da soma: {n1+n2}')\n",
    "elif(type == 2):\n",
    "    print(f'\\n- Resultado da raíz quadrada: {math.sqrt(n1)}')\n",
    "    "
   ]
  },
  {
   "cell_type": "markdown",
   "metadata": {},
   "source": [
    "6. Faça um programa que receba o código correspondente ao cargo de um funcionário e seu salário atual e mostre o cargo, o valor do aumento e seu novo salário. Os cargos estão na tabela a seguir.\n",
    "\n",
    "| Código | Cargo       | Percentual  |\n",
    "|--------|-------------|-------------|\n",
    "| 1      | Escrituário | 50%         |\n",
    "| 2      | Secretário  | 35%         |\n",
    "| 3      | Caixa       | 20%         |\n",
    "| 4      | Gerente     | 10%         |\n",
    "| 5      | Diretor     | Sem Aumento |"
   ]
  },
  {
   "cell_type": "code",
   "execution_count": 54,
   "metadata": {},
   "outputs": [
    {
     "name": "stdin",
     "output_type": "stream",
     "text": [
      "Código do cargo:  2\n",
      "Salário base:  1000\n"
     ]
    },
    {
     "name": "stdout",
     "output_type": "stream",
     "text": [
      "\n",
      "- Cargo: Secretário\n",
      "- Porcentagem de aumento: 35.0%\n",
      "- Salário final: 1350.0\n"
     ]
    }
   ],
   "source": [
    "cargos = {\n",
    "    '1': {\n",
    "        'cargo': 'Escrituário',\n",
    "        'percentual': 1.5\n",
    "    },\n",
    "    '2': {\n",
    "        'cargo': 'Secretário',\n",
    "        'percentual': 1.35\n",
    "    },\n",
    "    '3': {\n",
    "        'cargo': 'Caixa',\n",
    "        'percentual': 1.2\n",
    "    },\n",
    "    '4': {\n",
    "        'cargo': 'Gerente',\n",
    "        'percentual': 1.1\n",
    "    },\n",
    "    '5': {\n",
    "        'cargo': 'Dirigente',\n",
    "        'percentual': 1.0\n",
    "    },\n",
    "}\n",
    "\n",
    "id = input('Código do cargo: ')\n",
    "salBase = float(input('Salário base: '))\n",
    "\n",
    "cargo = cargos[id]['cargo']\n",
    "perct = (cargos[id]['percentual']*100)-100\n",
    "salFin = round(salBase*cargos[id]['percentual'], 2)\n",
    "\n",
    "print(f'\\n- Cargo: {cargo}\\n- Porcentagem de aumento: {perct}%\\n- Salário final: {salFin}')"
   ]
  },
  {
   "cell_type": "markdown",
   "metadata": {},
   "source": [
    "7. Faça um programa que receba o salário inicial de um funcionário, calcule e mostre o novo salário, acrescido de bonificação e de auxílio escola.\n",
    "\n",
    "| Salário                      | Bonificação     |\n",
    "|------------------------------|-----------------|\n",
    "| Até R\\\\$500,00                 | 5% do salário  |\n",
    "| Entre R\\\\$500,00 e R\\$1.1200,00 | 12% do salário  \n",
    "| Acima de R\\\\$1.200,00          | Sem Bonificação |\n",
    "\n",
    "| Salário           | Auxílio Escola |\n",
    "|-------------------|----------------|\n",
    "| Até R\\\\$600,00      | R\\\\$150,00       |\n",
    "| Acima de R\\\\$600,00 | R\\\\$100,00       |"
   ]
  },
  {
   "cell_type": "code",
   "execution_count": 4,
   "metadata": {},
   "outputs": [
    {
     "name": "stdin",
     "output_type": "stream",
     "text": [
      "Informe o salário inicial:  1500\n"
     ]
    },
    {
     "name": "stdout",
     "output_type": "stream",
     "text": [
      "Valor do novo salário: 1600.0\n"
     ]
    }
   ],
   "source": [
    "import sys\n",
    "\n",
    "salBase = float(input('Informe o salário inicial: '))\n",
    "salFinal = salBase\n",
    "bon = 0\n",
    "aux = 0\n",
    "\n",
    "if(salBase<0):\n",
    "    sys.exit('Você não pode informar um salário negativo!')\n",
    "\n",
    "if(salBase<=500):\n",
    "    bon = salBase*0.05\n",
    "elif(salBase<=1200):\n",
    "    bon = salBase*0.12\n",
    "\n",
    "if(salBase<=600):\n",
    "    aux = 150\n",
    "elif(salBase>600):\n",
    "    aux = 100\n",
    "\n",
    "print(f'Valor do novo salário: {salBase+bon+aux}')"
   ]
  },
  {
   "cell_type": "markdown",
   "metadata": {},
   "source": [
    "8. Um supermercado deseja reajustar os preços de seus produtos usando o seguinte critério: o produto poderá ter seu preço aumentado ou diminuído. Para o preço ser alterado, o produto deve preencher pelo menos um dos requisitos a seguir:\n",
    "\n",
    "| Venda Média Mensal | Preço Atual             | % de Aumento | % de Diminuição |\n",
    "|--------------------|-------------------------|--------------|-----------------|\n",
    "| < 500              | < R\\\\$ 30,00              | 10           | -               |\n",
    "| >= 500 e < 1.200   | >= R\\\\$30,00 e < R\\\\$ 80,00 | 15           | -               |\n",
    "| >= 1.200           | >= R\\\\$80,00              | -            | 20              |"
   ]
  },
  {
   "cell_type": "code",
   "execution_count": 119,
   "metadata": {},
   "outputs": [
    {
     "name": "stdin",
     "output_type": "stream",
     "text": [
      "Digite a média de venda mensal do produto:  1200\n",
      "Agora, seu preço atual:  80\n"
     ]
    },
    {
     "name": "stdout",
     "output_type": "stream",
     "text": [
      "\n",
      "- O novo valor do produto deverá ser: 64.0\n"
     ]
    }
   ],
   "source": [
    "vendaMensal = int(input('Digite a média de venda mensal do produto: '))\n",
    "precoAtual = float(input('Agora, seu preço atual: '))\n",
    "prctAlteracao = 0\n",
    "\n",
    "if(vendaMensal<500):\n",
    "    if precoAtual<30 : prctAlteracao = 1.1\n",
    "elif(vendaMensal<1200):\n",
    "    if(30<=precoAtual<80): prctAlteracao = 1.15\n",
    "elif(vendaMensal>=1200):\n",
    "    if(precoAtual>=80): prctAlteracao = 0.8\n",
    "\n",
    "print(f'\\n- O novo valor do produto deverá ser: {precoAtual*prctAlteracao if prctAlteracao != 0 else precoAtual}')"
   ]
  },
  {
   "cell_type": "markdown",
   "metadata": {},
   "source": [
    "9. Faça um programa para resolver equações do 2º grau.\n",
    "\n",
    "$$\n",
    "a^{2} + bx + c = 0\n",
    "$$\n",
    "\n",
    "\n",
    "Onde x é uma variável, sendo a, b e c constantes, com a ≠ 0 \n",
    "\n",
    "\n",
    "$$\n",
    "\\Delta = b^{2} - 4ac\n",
    "$$\n",
    "\n",
    "$$\n",
    "\\Delta < 0 \\rightarrow não \\: existe  \\: raiz  \\: real\n",
    "$$\n",
    "\n",
    "$$\n",
    "\\Delta = 0 \\rightarrow  existe  \\: raiz  \\: real\n",
    "$$\n",
    "\n",
    "$$\n",
    "x = \\frac{-b}{2a}\n",
    "$$\n",
    "\n",
    "\n",
    "\n",
    "$$\n",
    "\\Delta > 0 \\rightarrow existem \\: duas  \\: raizes  \\: reais\n",
    "$$\n",
    "\n",
    "\n",
    "$$\n",
    "x_1 = \\frac{-b \\: + \\: \\sqrt{\\Delta } }{2a}\n",
    "$$\n",
    "\n",
    "$$\n",
    "x_2 = \\frac{-b \\: - \\: \\sqrt{\\Delta } }{2a}\n",
    "$$"
   ]
  },
  {
   "cell_type": "code",
   "execution_count": 4,
   "metadata": {},
   "outputs": [
    {
     "name": "stdin",
     "output_type": "stream",
     "text": [
      "Digite o valor de \"a\" (valor diferente de zero):  1\n",
      "Digite o valor de \"b\":  4\n",
      "Digite o valor de \"c\":  4\n"
     ]
    },
    {
     "name": "stdout",
     "output_type": "stream",
     "text": [
      "Só existe um valor para as raízes: -2.0\n"
     ]
    }
   ],
   "source": [
    "import sys\n",
    "import math\n",
    "\n",
    "a = float(input('Digite o valor de \"a\" (valor diferente de zero): '))\n",
    "b = float(input('Digite o valor de \"b\": '))\n",
    "c = float(input('Digite o valor de \"c\": '))\n",
    "\n",
    "delta = (b**2)-(4*(a*c))\n",
    "\n",
    "if a == 0: sys.exit('O valor informado para \"a\" foi zero!')\n",
    "\n",
    "if delta < 0: sys.exit('Não existe raíz real para este problema!')\n",
    "\n",
    "print(f'Só existe um valor para as raízes: {-b/(2*a)}') if delta == 0 else print(f'\\n- Valores possíveis: {((-b) + math.sqrt(delta))/(2*a)} e {((-b) - math.sqrt(delta))/(2*a)}')"
   ]
  },
  {
   "cell_type": "markdown",
   "metadata": {},
   "source": [
    "10. Dados três valores X, Y e Z, verifique se eles podem ser os comprimentos dos lados de um triângulo e, se forem, verifique se é um triângulo equilátero, isósceles ou escaleno. Se eles não formarem um triângulo, escreva uma mensagem. Considere que:\n",
    "\n",
    "- O comprimento de cada lado de um triângulo é menor que a soma dos outros dois lados;\n",
    "- Chama-se equilátero o triângulo que tem três lados iguais;\n",
    "- Denomina-se isósceles o triângulo que tem o comprimento de dois lados iguais;\n",
    "- Recebe o nome de escaleno o triângulo que tem os três lados diferentes."
   ]
  },
  {
   "cell_type": "code",
   "execution_count": 25,
   "metadata": {},
   "outputs": [
    {
     "name": "stdin",
     "output_type": "stream",
     "text": [
      "Digite o valor do primeiro lado do trinângulo:  5\n",
      "Digite o valor do segundo lado do triângulo:  5\n",
      "Digite o valor de terceiro lado do triângulo:  7\n"
     ]
    },
    {
     "name": "stdout",
     "output_type": "stream",
     "text": [
      "\n",
      "- O triângulo informado é isósceles.\n"
     ]
    }
   ],
   "source": [
    "l1 = float(input('Digite o valor do primeiro lado do trinângulo: '))\n",
    "l2 = float(input('Digite o valor do segundo lado do triângulo: '))\n",
    "l3 = float(input('Digite o valor de terceiro lado do triângulo: '))\n",
    "\n",
    "lados = [l1, l2, l3]\n",
    "\n",
    "if(l1<(l2+l3) and l2<(l1+l3) and l3<(l2+l3)):\n",
    "    if(lados.count(l1) == 3):\n",
    "        print('\\n- O triângulo informado é equilátero.')\n",
    "    elif(lados.count(l1) == 2 or lados.count(l2) == 2):\n",
    "        print('\\n- O triângulo informado é isósceles.')\n",
    "    else:\n",
    "        print('\\n- O triângulo informado é escaleno.')\n",
    "else:\n",
    "    print('\\n- Os valores informados não foram um triângulo!')"
   ]
  },
  {
   "cell_type": "markdown",
   "metadata": {},
   "source": [
    "11. Faça um programa que receba a altura e o peso de uma pessoa. De acordo com a tabela a seguir, verifique e mostre a classificação dessa pessoa.\n",
    "\n",
    "| Altura           | Peso até 60 | Peso entre 60 e 90 (Inclusive) | Peso Acima de 90 |\n",
    "|------------------|-------------|--------------------------------|------------------|\n",
    "| Menores que 1,20 | A           | D                              | G                |\n",
    "| De 1,20 a 1,70   | B           | E                              | H                |\n",
    "| Maiores que 1,70 | C           | F                              | I                |"
   ]
  },
  {
   "cell_type": "code",
   "execution_count": 27,
   "metadata": {},
   "outputs": [
    {
     "name": "stdin",
     "output_type": "stream",
     "text": [
      "Digite o peso da pessoa:  65\n",
      "Agora, a altura (em cm):  174\n"
     ]
    },
    {
     "name": "stdout",
     "output_type": "stream",
     "text": [
      "\n",
      "- Classificação final: F\n"
     ]
    }
   ],
   "source": [
    "peso = float(input('Digite o peso da pessoa: '))\n",
    "altura = int(input('Agora, a altura (em cm): '))\n",
    "\n",
    "msg = '';\n",
    "if(altura < 120):\n",
    "    if(peso <= 60):\n",
    "        msg = 'A'\n",
    "    elif(60 < peso <= 90):\n",
    "        msg = 'D'\n",
    "    elif(peso > 90):\n",
    "        msg = 'G'\n",
    "elif(altura <= 170):\n",
    "    if(peso <= 60):\n",
    "        msg = 'B'\n",
    "    elif(60 < peso <= 90):\n",
    "        msg = 'E'\n",
    "    elif(peso > 90):\n",
    "        msg = 'H'\n",
    "elif(altura > 170):\n",
    "    if(peso <= 60):\n",
    "        msg = 'C'\n",
    "    elif(60 < peso <= 90):\n",
    "        msg = 'F'\n",
    "    elif(peso > 90):\n",
    "        msg = 'I'\n",
    "        \n",
    "print(f'\\n- Classificação final: {msg}')"
   ]
  },
  {
   "cell_type": "markdown",
   "metadata": {},
   "source": [
    "12. Faça um programa que receba:\n",
    "\n",
    "- O código de um produto comprado, supondo que a digitação do código do produto seja sempre válida, isto é, um número inteiro entre 1 e 10.\n",
    "- O peso do produto em quilos.\n",
    "- O código do país de origem, supondo que a digitação do código seja sempre válida, isto é, um número inteiro entre 1 e 3. \n",
    "\n",
    "Tabelas:\n",
    "\n",
    "| Código do País de Origem | Imposto |\n",
    "|--------------------------|---------|\n",
    "| 1                        | 0%      |\n",
    "| 2                        | 15%     |\n",
    "| 3                        | 25%     |\n",
    "\n",
    "\n",
    "| Código do Produto | Preço por Grama |\n",
    "|-------------------|-----------------|\n",
    "| 1 a 4             | 10              |\n",
    "| 5 a 7             | 25              |\n",
    "| 8 a 10            | 35              |"
   ]
  },
  {
   "cell_type": "code",
   "execution_count": 35,
   "metadata": {},
   "outputs": [
    {
     "name": "stdin",
     "output_type": "stream",
     "text": [
      "Digite o código do produto:  5\n",
      "Digite o peso do produto (em g):  10\n",
      "Digite o código do país do produto:  2\n"
     ]
    },
    {
     "name": "stdout",
     "output_type": "stream",
     "text": [
      "\n",
      "- Valor final do produto: 287.5\n"
     ]
    }
   ],
   "source": [
    "paises = {\n",
    "    '1': {\n",
    "        'imposto': 1.0\n",
    "    },\n",
    "    '2': {\n",
    "        'imposto': 1.15\n",
    "    },\n",
    "    '3': {\n",
    "        'imposto': 1.25\n",
    "    },\n",
    "}\n",
    "\n",
    "codProd = int(input('Digite o código do produto: '))\n",
    "pesoProd = float(input('Digite o peso do produto (em g): '))\n",
    "codPais = input('Digite o código do país do produto: ')\n",
    "\n",
    "valGrama = 10 if 1<=codProd<=4 else (25 if 5<=codProd<=7 else 35)\n",
    "valFinal = round((pesoProd*valGrama)*paises[codPais]['imposto'], 3)\n",
    "\n",
    "print(f'\\n- Valor final do produto: {valFinal}')"
   ]
  },
  {
   "cell_type": "markdown",
   "metadata": {},
   "source": [
    "13. Escreva um programa que calcule o quadrado e o cubo dos números de 0 a 10, e imprima os valores em forma de tabela. Número | Quadrado | Cubo"
   ]
  },
  {
   "cell_type": "code",
   "execution_count": 39,
   "metadata": {},
   "outputs": [
    {
     "name": "stdout",
     "output_type": "stream",
     "text": [
      "  Número    Quadrado    Cubo\n",
      "--------  ----------  ------\n",
      "       1           1       1\n",
      "       2           4       8\n",
      "       3           9      27\n",
      "       4          16      64\n",
      "       5          25     125\n",
      "       6          36     216\n",
      "       7          49     343\n",
      "       8          64     512\n",
      "       9          81     729\n",
      "      10         100    1000\n"
     ]
    }
   ],
   "source": [
    "from tabulate import tabulate\n",
    "\n",
    "table = [];\n",
    "\n",
    "for i in range(1,11):\n",
    "    num = i\n",
    "    qud = i**2\n",
    "    cub = i**3\n",
    "    table.append([num, qud, cub])\n",
    "\n",
    "print(tabulate(table, headers=[\"Número\", \"Quadrado\", \"Cubo\"]))"
   ]
  },
  {
   "cell_type": "markdown",
   "metadata": {},
   "source": [
    "14. Um funcionário de uma empresa recebe, anualmente, aumento salarial. Sabe-se que:\n",
    "\n",
    "- Esse funcionário foi contratado em 2005, com salário inicial de R\\\\$ 1.000,00.\n",
    "- Em 2006, ele recebeu aumento de 1,5% sobre seu salário inicial.\n",
    "- A partir de 2007 (inclusive), os aumentos salariais sempre corresponderam ao dobro do percentual do ano anterior.\n",
    "\n",
    "Faça um programa que determine o salário atual desse funcionário."
   ]
  },
  {
   "cell_type": "code",
   "execution_count": 47,
   "metadata": {},
   "outputs": [
    {
     "name": "stdout",
     "output_type": "stream",
     "text": [
      "Salário atual do funcionário: 2.668532897144984e+20\n"
     ]
    }
   ],
   "source": [
    "salario = 1000\n",
    "pctAum = 0\n",
    "\n",
    "for i in range(2006, 2023):\n",
    "    if(i == 2006):\n",
    "        pctAum = 1.5\n",
    "        salario = salBase*1.015\n",
    "    else:\n",
    "        pctAum *= 2\n",
    "        salario *= (100+pctAum)/100\n",
    "\n",
    "print(f'Salário atual do funcionário: {round(salario, 2)}')"
   ]
  },
  {
   "cell_type": "markdown",
   "metadata": {},
   "source": [
    "15. Foi feita uma pesquisa para determinar o índice de mortalidade infantil em certo período. Faça um programa que:\n",
    "\n",
    "- Leia o número de crianças nascidas no período;\n",
    "- Identifique o sexo (M ou F) e o tempo de vida de cada criança nascida.\n",
    "\n",
    "O programa deve calcular e mostrar:\n",
    "\n",
    "- A porcentagem de crianças do sexo feminino mortas no período;\n",
    "- A porcentagem de crianças do sexo masculino mortas no período;\n",
    "- A porcentagem de crianças que viveram 24 meses ou menos no período."
   ]
  },
  {
   "cell_type": "code",
   "execution_count": 59,
   "metadata": {},
   "outputs": [
    {
     "name": "stdin",
     "output_type": "stream",
     "text": [
      "Digite o número de crianças nascidas no preríodo:  3\n",
      "Sexo da 1ª criança (M ou F):  m\n",
      "Tempo de vida da 1ª criança (em meses):  12\n",
      "Sexo da 2ª criança (M ou F):  m\n",
      "Tempo de vida da 2ª criança (em meses):  24\n",
      "Sexo da 3ª criança (M ou F):  f\n",
      "Tempo de vida da 3ª criança (em meses):  36\n"
     ]
    },
    {
     "name": "stdout",
     "output_type": "stream",
     "text": [
      "\n",
      "- Porcentagem de crianças do sexo feminino mortas no período: 33.33%\n",
      "- Porcentagem de crianças do sexo masculino mortas no período: 66.67%\n",
      "- A porcentagem de crianças que viveram 24 meses ou menos no período: 66.67%\n"
     ]
    }
   ],
   "source": [
    "import sys\n",
    "\n",
    "nChilds = int(input('Digite o número de crianças nascidas no preríodo: '))\n",
    "idadeMascTot = 0\n",
    "idadeFemTot = 0\n",
    "mascTot = 0\n",
    "femTot = 0\n",
    "tot24 = 0\n",
    "\n",
    "for i in range(nChilds):\n",
    "    sexo = input(f'Sexo da {i+1}ª criança (M ou F): ').upper()\n",
    "    if (sexo != 'M' and sexo != 'F'): sys.exit('O sexo informado é inválido!')\n",
    "    mascTot += 1 if sexo == 'M' else 0\n",
    "    femTot += 1 if sexo == 'F' else 0\n",
    "    \n",
    "    tempoVida = int(input(f'Tempo de vida da {i+1}ª criança (em meses): '))\n",
    "    idadeMascTot += tempoVida if sexo == 'M' else 0\n",
    "    idadeFemTot += tempoVida if sexo == 'F' else 0\n",
    "    \n",
    "    if tempoVida<=24: tot24 += 1 \n",
    "\n",
    "print(f'\\n- Porcentagem de crianças do sexo feminino mortas no período: {round((femTot/(femTot + mascTot))*100, 2)}%')\n",
    "print(f'- Porcentagem de crianças do sexo masculino mortas no período: {round((mascTot/(femTot + mascTot))*100, 2)}%')\n",
    "print(f'- A porcentagem de crianças que viveram 24 meses ou menos no período: {round((tot24/(femTot + mascTot))*100, 2)}%')\n",
    "                    "
   ]
  },
  {
   "cell_type": "markdown",
   "metadata": {},
   "source": [
    "16. Faça um programa que receba duas notas de seis alunos. Calcule e mostre:\n",
    "\n",
    "- A média aritmética das duas notas de cada aluno; e\n",
    "- A mensagem que está na tabela a seguir:\n",
    "- O total de alunos aprovados;\n",
    "- O total de alunos de exame;\n",
    "- O total de alunos reprovados;\n",
    "- A média da classe.\n",
    "\n",
    "| Média Aritmética | Situação       |\n",
    "|------------------|----------------|\n",
    "| Entre 0 e 29     | Reprovado      |\n",
    "| Entre 30 e 69    | Exame Especial |\n",
    "| Entre 70 e 100   | Aprovado       |\n"
   ]
  },
  {
   "cell_type": "code",
   "execution_count": 71,
   "metadata": {},
   "outputs": [
    {
     "name": "stdin",
     "output_type": "stream",
     "text": [
      "Digite a primeira nota do 1º aluno (0-100):  70\n",
      "Digite a segunda nota do 1º aluno (0-100):  80\n",
      "Digite a primeira nota do 2º aluno (0-100):  25\n",
      "Digite a segunda nota do 2º aluno (0-100):  33\n",
      "Digite a primeira nota do 3º aluno (0-100):  55\n",
      "Digite a segunda nota do 3º aluno (0-100):  75\n",
      "Digite a primeira nota do 4º aluno (0-100):  45\n",
      "Digite a segunda nota do 4º aluno (0-100):  80\n",
      "Digite a primeira nota do 5º aluno (0-100):  90\n",
      "Digite a segunda nota do 5º aluno (0-100):  95\n",
      "Digite a primeira nota do 6º aluno (0-100):  78\n",
      "Digite a segunda nota do 6º aluno (0-100):  65\n"
     ]
    },
    {
     "name": "stdout",
     "output_type": "stream",
     "text": [
      "\n",
      "  Cod. Aluno    1ª nota    2ª nota    Média  Situação\n",
      "------------  ---------  ---------  -------  --------------\n",
      "           0         70         80     75    Aprovado\n",
      "           1         25         33     29    Reprovado\n",
      "           2         55         75     65    Exame Especial\n",
      "           3         45         80     62.5  Exame Especial\n",
      "           4         90         95     92.5  Aprovado\n",
      "           5         78         65     71.5  Aprovado\n",
      "\n",
      "- Total de alunos aprovados: 3\n",
      "- Total de alunos de exame: 2\n",
      "- Total de alunos reprovados: 1\n",
      "- Média da classe: 65.92\n"
     ]
    }
   ],
   "source": [
    "from tabulate import tabulate\n",
    "\n",
    "notas = []\n",
    "totAprovados = 0\n",
    "totExame = 0\n",
    "totReprovados = 0\n",
    "qtdClasse = 0\n",
    "totalClasse = 0\n",
    "\n",
    "for i in range(6):\n",
    "    n1 = float(input(f'Digite a primeira nota do {i+1}º aluno (0-100): '))\n",
    "    totalClasse += n1\n",
    "    qtdClasse += 1\n",
    "    n2 = float(input(f'Digite a segunda nota do {i+1}º aluno (0-100): '))\n",
    "    totalClasse += n2\n",
    "    qtdClasse += 1\n",
    "    \n",
    "    med = round((n1+n2)/2, 2)\n",
    "    situacao = 'Reprovado' if med <= 29 else ('Exame Especial' if med <= 69 else 'Aprovado')\n",
    "    notas.append([i, n1, n2, med, situacao])\n",
    "    \n",
    "    totAprovados += 1 if situacao == 'Aprovado' else 0\n",
    "    totExame += 1 if situacao == 'Exame Especial' else 0\n",
    "    totReprovados += 1 if situacao == 'Reprovado' else 0\n",
    "    \n",
    "print('\\n'+tabulate(notas, headers=[\"Cod. Aluno\", \"1ª nota\", '2ª nota', 'Média', 'Situação']))\n",
    "print(f'\\n- Total de alunos aprovados: {totAprovados}')\n",
    "print(f'- Total de alunos de exame: {totExame}')\n",
    "print(f'- Total de alunos reprovados: {totReprovados}')\n",
    "print(f'- Média da classe: {round(totalClasse/qtdClasse, 2)}')\n"
   ]
  },
  {
   "cell_type": "markdown",
   "metadata": {},
   "source": [
    "17. Faça um programa para calcular a área de um triângulo e que não permita a entrada de dados inválidos, ou seja, medidas menores ou iguais a 0."
   ]
  },
  {
   "cell_type": "code",
   "execution_count": 83,
   "metadata": {},
   "outputs": [
    {
     "name": "stdin",
     "output_type": "stream",
     "text": [
      "Digite o valor da base do triângulo:  10\n",
      "Agora, a altura do triângulo:  10\n"
     ]
    },
    {
     "name": "stdout",
     "output_type": "stream",
     "text": [
      "Área do triângulo: 50.0\n"
     ]
    }
   ],
   "source": [
    "import sys\n",
    "\n",
    "base = float(input('Digite o valor da base do triângulo: '))\n",
    "altura = float(input('Agora, a altura do triângulo: '))\n",
    "\n",
    "if(base <= 0 or altura <= 0): sys.exit('Os valores informados são inválidos!')\n",
    "\n",
    "print(f'Área do triângulo: {(base*altura)/2}')"
   ]
  },
  {
   "cell_type": "markdown",
   "metadata": {},
   "source": [
    "18. Faça um programa que leia um conjunto não determinado de valores e mostre o valor lido, seu quadrado, seu cubo e sua raiz quadrada. Finalize a entrada de dados com um valor negativo ou zero."
   ]
  },
  {
   "cell_type": "code",
   "execution_count": 97,
   "metadata": {},
   "outputs": [
    {
     "name": "stdin",
     "output_type": "stream",
     "text": [
      "Digite a opção desejada:\n",
      "- 1. Continuar\n",
      "- 0. Sair\n",
      " 3\n",
      "Digite a opção desejada:\n",
      "- 1. Continuar\n",
      "- 0. Sair\n",
      " 1\n",
      "\n",
      "Digite um valor numérico:  4\n"
     ]
    },
    {
     "name": "stdout",
     "output_type": "stream",
     "text": [
      "- Resultado de 4.0 ao quadrado: 16.0\n",
      "- Resultado de 4.0 ao cubo: 64.0\n",
      "- Resultado da raíz quadrada de 4.0: 2.0\n",
      "\n"
     ]
    },
    {
     "name": "stdin",
     "output_type": "stream",
     "text": [
      "Digite a opção desejada:\n",
      "- 1. Continuar\n",
      "- 0. Sair\n",
      " 0\n"
     ]
    }
   ],
   "source": [
    "import math\n",
    "\n",
    "output = -1\n",
    "while output != 0:\n",
    "    output = int(input('Digite a opção desejada:\\n- 1. Continuar\\n- 0. Sair\\n'))\n",
    "    if(output == 1):\n",
    "        val = float(input('\\nDigite um valor numérico: '))\n",
    "        print(f'- Resultado de {val} ao quadrado: {val**2}')\n",
    "        print(f'- Resultado de {val} ao cubo: {val**3}')        \n",
    "        print(f'- Resultado da raíz quadrada de {val}: {round(math.sqrt(val), 2)}\\n')        "
   ]
  },
  {
   "cell_type": "markdown",
   "metadata": {},
   "source": [
    "19. Faça um programa que leia um número não determinado de pares de valores [m,n], todos inteiros e positivos, um par de cada vez, e que calcule e mostre a soma de todos os números inteiros entre m e n (inclusive). A digitação de pares terminará quando m for maior ou igual a n."
   ]
  },
  {
   "cell_type": "code",
   "execution_count": 108,
   "metadata": {},
   "outputs": [
    {
     "name": "stdin",
     "output_type": "stream",
     "text": [
      "Digite a primeiro número:  10\n",
      "Digite o segundo número:  20\n"
     ]
    },
    {
     "name": "stdout",
     "output_type": "stream",
     "text": [
      "- Soma dos números inteiros entre 10 e 20: 165\n",
      "\n"
     ]
    },
    {
     "name": "stdin",
     "output_type": "stream",
     "text": [
      "Digite a primeiro número:  0\n",
      "Digite o segundo número:  0\n"
     ]
    },
    {
     "name": "stdout",
     "output_type": "stream",
     "text": [
      "Saindo...\n"
     ]
    }
   ],
   "source": [
    "m = 0\n",
    "n = 1\n",
    "while n>m:\n",
    "    m = int(input('Digite a primeiro número: '))\n",
    "    n = int(input('Digite o segundo número: '))\n",
    "    if(n>m):\n",
    "        soma = 0\n",
    "        for i in range(m, (n+1)):\n",
    "            soma += i\n",
    "    \n",
    "        print(f'- Soma dos números inteiros entre {m} e {n}: {soma}\\n')\n",
    "    else:\n",
    "        print('Saindo...')"
   ]
  },
  {
   "cell_type": "markdown",
   "metadata": {},
   "source": [
    "20. Faça um programa que receba vários números, calcule e mostre:\n",
    "\n",
    "    - A soma dos números digitados;\n",
    "    - A quantidade de números digitados;\n",
    "    - A média dos números digitados;\n",
    "    - O maior número digitado;\n",
    "    - O menor número digitado;\n",
    "    - A média dos números pares;\n",
    "    - A porcentagem dos números ímpares entre todos os números digitados.\n",
    "\n",
    "Finalize a entrada de dados com a digitação do número 0."
   ]
  },
  {
   "cell_type": "code",
   "execution_count": 112,
   "metadata": {},
   "outputs": [
    {
     "name": "stdin",
     "output_type": "stream",
     "text": [
      "Digite a opção desejada:\n",
      "- 1. Continuar\n",
      "- 0. Finalizar\n",
      " 14\n",
      "Digite a opção desejada:\n",
      "- 1. Continuar\n",
      "- 0. Finalizar\n",
      " 1\n",
      "\n",
      "Digite seu valor numérico:  14\n"
     ]
    },
    {
     "name": "stdout",
     "output_type": "stream",
     "text": [
      "\n",
      "\n"
     ]
    },
    {
     "name": "stdin",
     "output_type": "stream",
     "text": [
      "Digite a opção desejada:\n",
      "- 1. Continuar\n",
      "- 0. Finalizar\n",
      " 1\n",
      "\n",
      "Digite seu valor numérico:  88\n"
     ]
    },
    {
     "name": "stdout",
     "output_type": "stream",
     "text": [
      "\n",
      "\n"
     ]
    },
    {
     "name": "stdin",
     "output_type": "stream",
     "text": [
      "Digite a opção desejada:\n",
      "- 1. Continuar\n",
      "- 0. Finalizar\n",
      " 1\n",
      "\n",
      "Digite seu valor numérico:  1\n"
     ]
    },
    {
     "name": "stdout",
     "output_type": "stream",
     "text": [
      "\n",
      "\n"
     ]
    },
    {
     "name": "stdin",
     "output_type": "stream",
     "text": [
      "Digite a opção desejada:\n",
      "- 1. Continuar\n",
      "- 0. Finalizar\n",
      " 1\n",
      "\n",
      "Digite seu valor numérico:  13\n"
     ]
    },
    {
     "name": "stdout",
     "output_type": "stream",
     "text": [
      "\n",
      "\n"
     ]
    },
    {
     "name": "stdin",
     "output_type": "stream",
     "text": [
      "Digite a opção desejada:\n",
      "- 1. Continuar\n",
      "- 0. Finalizar\n",
      " 1\n",
      "\n",
      "Digite seu valor numérico:  77\n"
     ]
    },
    {
     "name": "stdout",
     "output_type": "stream",
     "text": [
      "\n",
      "\n"
     ]
    },
    {
     "name": "stdin",
     "output_type": "stream",
     "text": [
      "Digite a opção desejada:\n",
      "- 1. Continuar\n",
      "- 0. Finalizar\n",
      " 0\n"
     ]
    },
    {
     "name": "stdout",
     "output_type": "stream",
     "text": [
      "\n",
      "--- Resultados da aplicação: \n",
      ". Soma dos números digitados: 193.0\n",
      ". Quantidade de números digitados: 5\n",
      ". Média dos números digitados: 38.6\n",
      ". Maior número digitado: 88.0\n",
      ". Menor número digitado: 1.0\n",
      ". Média dos números pares: 408.0\n",
      ". Porcentagem dos números ímpares entre todos os números digitados: 60.0%\n"
     ]
    }
   ],
   "source": [
    "import math\n",
    "\n",
    "sumTot = 0\n",
    "qtdNum = 0\n",
    "medTot = 0\n",
    "maiorNum = 0\n",
    "menorNum = 0\n",
    "sumPares = 0\n",
    "totPares = 0\n",
    "totImp = 0\n",
    "\n",
    "\n",
    "count = 0\n",
    "output = -1\n",
    "while output != 0:\n",
    "    output = int(input('Digite a opção desejada:\\n- 1. Continuar\\n- 0. Finalizar\\n'))\n",
    "    if(output == 1):\n",
    "        val = float(input('\\nDigite seu valor numérico: '))\n",
    "        \n",
    "        if(count == 0):\n",
    "            maiorNum = val\n",
    "            menorNum = val\n",
    "        \n",
    "        sumTot += val\n",
    "        qtdNum += 1\n",
    "        medTot = sumTot/qtdNum\n",
    "        maiorNum = val if val > maiorNum else maiorNum\n",
    "        menorNum = val if val < menorNum else menorNum\n",
    "        sumPares += val if val % 2 == 0 else sumPares\n",
    "        totPares += 1 if val % 2 == 0 else 0\n",
    "        totImp += 1 if val % 2 != 0 else 0\n",
    "        \n",
    "        count += 1\n",
    "        print('\\n')\n",
    "\n",
    "print('\\n--- Resultados da aplicação: ')\n",
    "print(f'. Soma dos números digitados: {sumTot}')\n",
    "print(f'. Quantidade de números digitados: {qtdNum}')\n",
    "print(f'. Média dos números digitados: {medTot}')\n",
    "print(f'. Maior número digitado: {maiorNum}')\n",
    "print(f'. Menor número digitado: {menorNum}')\n",
    "print(f'. Média dos números pares: {sumPares/totPares}')\n",
    "print(f'. Porcentagem dos números ímpares entre todos os números digitados: {(totImp/qtdNum)*100}%')"
   ]
  },
  {
   "cell_type": "code",
   "execution_count": null,
   "metadata": {},
   "outputs": [],
   "source": []
  }
 ],
 "metadata": {
  "kernelspec": {
   "display_name": "Python 3 (ipykernel)",
   "language": "python",
   "name": "python3"
  },
  "language_info": {
   "codemirror_mode": {
    "name": "ipython",
    "version": 3
   },
   "file_extension": ".py",
   "mimetype": "text/x-python",
   "name": "python",
   "nbconvert_exporter": "python",
   "pygments_lexer": "ipython3",
   "version": "3.9.12"
  }
 },
 "nbformat": 4,
 "nbformat_minor": 4
}
