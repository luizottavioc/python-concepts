{
 "cells": [
  {
   "cell_type": "markdown",
   "metadata": {},
   "source": [
    "## Exercícios"
   ]
  },
  {
   "cell_type": "markdown",
   "metadata": {},
   "source": [
    "1. A nota final de um estudante é calculada a partir de três notas atribuídas, respectivamente, a um trabalho\n",
    "de laboratório, a uma avaliação semestral e a um exame final. A média das três notas mencionadas\n",
    "obedece aos pesos a seguir:\n",
    "\n",
    "| Nota                    | Peso |\n",
    "|-------------------------|------|\n",
    "| Trabalho de Laboratório | 2    |\n",
    "| Avaliação Semestral     | 3    |\n",
    "| Exame Final             | 5    |\n",
    "\n",
    "\n",
    "Faça um programa que receba as três notas, calcule e mostre a média ponderada e o conceito que segue\n",
    "a tabela:\n",
    "\n",
    "| Média Ponderada        | Conceito |\n",
    "|------------------------|----------|\n",
    "| 8,00 <= Média <= 10,00 | A        |\n",
    "| 7,00 <= Média < 8,00   | B        |\n",
    "| 6,00 <= Média < 7,00   | C        |\n",
    "| 5,00 <= Média < 6,00   | D        |\n",
    "| 0,00 <= Média < 5,00   | E        |\n",
    "\n"
   ]
  },
  {
   "cell_type": "code",
   "execution_count": 19,
   "metadata": {},
   "outputs": [
    {
     "name": "stdin",
     "output_type": "stream",
     "text": [
      "Digite a nota do trabalho de laboratório:  7\n",
      "Digite a nota da avaliação semestral:  5\n",
      "Digite a nota do exame final:  8\n"
     ]
    },
    {
     "name": "stdout",
     "output_type": "stream",
     "text": [
      "\n",
      "Conceito final das notas: C (6.9)\n"
     ]
    }
   ],
   "source": [
    "import sys\n",
    "\n",
    "nLab = float(input(\"Digite a nota do trabalho de laboratório: \"))\n",
    "nSem = float(input(\"Digite a nota da avaliação semestral: \"))\n",
    "nFin = float(input(\"Digite a nota do exame final: \"))\n",
    "\n",
    "res = round(((nLab*2)+(nSem*3)+(nFin*5))/10, 3)\n",
    "conc = ''\n",
    "\n",
    "if(res<0):\n",
    "    sys.exit('Média negativa. Confira os valores informados!')\n",
    "elif(res<5):\n",
    "    conc = 'E'\n",
    "elif(res<6):\n",
    "    conc = 'D'\n",
    "elif(res<7):\n",
    "    conc = 'C'\n",
    "elif(res<8):\n",
    "    conc = 'B'\n",
    "elif(res<=10):\n",
    "    conc = 'A'\n",
    "else:\n",
    "    sys.exit('Média maior que a escala. Confira os valores informados!')\n",
    "\n",
    "print(f'\\nConceito final das notas: {conc} ({res})')"
   ]
  },
  {
   "cell_type": "markdown",
   "metadata": {},
   "source": [
    "2. Faça um programa que receba três notas de um aluno, calcule e mostre a média aritmética e a mensagem constante na tabela a seguir. \n",
    "\n",
    "| Média                  | Situação       |\n",
    "|------------------------|----------------|\n",
    "| 7,00 <= Média <= 10,00 | Aprovado       |\n",
    "| 3,00 <= Média < 7,00   | Exame Especial |\n",
    "| 0,00 <= Média < 3,00   | Reprovado      |"
   ]
  },
  {
   "cell_type": "code",
   "execution_count": 17,
   "metadata": {},
   "outputs": [
    {
     "name": "stdin",
     "output_type": "stream",
     "text": [
      "Digite a nota da prova:  7\n",
      "Digite a nota da prova:  8\n",
      "Digite a nota da prova:  6\n"
     ]
    },
    {
     "name": "stdout",
     "output_type": "stream",
     "text": [
      "\n",
      "Conceito final: Aprovado (7.0)\n"
     ]
    }
   ],
   "source": [
    "tot = 0\n",
    "qtd = 0\n",
    "\n",
    "for i in range(3):\n",
    "    tot += float(input(\"Digite a nota da prova: \"))\n",
    "    qtd += 1\n",
    "\n",
    "res = round(tot/qtd, 3)\n",
    "sit = ''\n",
    "\n",
    "if(res<0):\n",
    "    sys.exit('Média negativa. Confira os valores informados!')\n",
    "elif(res<3):\n",
    "    sit = 'Reprovado'\n",
    "elif(res<7):\n",
    "    sit = 'Exame especial'\n",
    "elif(res<=10):\n",
    "    sit = 'Aprovado'\n",
    "else:\n",
    "    sys.exit('Média maior que a escala. Confira os valores informados!')\n",
    "\n",
    "print(f'\\nConceito final: {sit} ({res})')"
   ]
  },
  {
   "cell_type": "markdown",
   "metadata": {},
   "source": [
    "3. Faça um programa que receba dois números e mostre o maior."
   ]
  },
  {
   "cell_type": "code",
   "execution_count": 21,
   "metadata": {},
   "outputs": [
    {
     "name": "stdin",
     "output_type": "stream",
     "text": [
      "Digite o primeiro número:  2\n",
      "Digite o segundo número:  2\n"
     ]
    },
    {
     "name": "stdout",
     "output_type": "stream",
     "text": [
      "\n",
      "Os números são iguais!\n"
     ]
    }
   ],
   "source": [
    "n1 = float(input(\"Digite o primeiro número: \"))\n",
    "n2 = float(input(\"Digite o segundo número: \"))\n",
    "print(f'\\nMaior número: {n1}') if n1>n2 else print(f'\\nMaior número: {n2}') if n1<n2 else print('\\nOs números são iguais!')"
   ]
  },
  {
   "cell_type": "markdown",
   "metadata": {},
   "source": [
    "4. Faça um programa que receba um número inteiro e verifique se é par ou ímpar."
   ]
  },
  {
   "cell_type": "code",
   "execution_count": 23,
   "metadata": {},
   "outputs": [
    {
     "name": "stdin",
     "output_type": "stream",
     "text": [
      "Digite seu número:  5\n"
     ]
    },
    {
     "name": "stdout",
     "output_type": "stream",
     "text": [
      "\n",
      "Este número é impar!\n"
     ]
    }
   ],
   "source": [
    "n = float(input(\"Digite seu número: \"))\n",
    "print(f'\\nEste número é par!') if n % 2 == 0 else print(f'\\nEste número é impar!')"
   ]
  },
  {
   "cell_type": "markdown",
   "metadata": {},
   "source": [
    "5. Faça um programa que mostre o menu de opções a seguir, receba a opção do usuário e os dados necessários para executar cada operação.\n",
    "\n",
    "Menu de opções:\n",
    "\n",
    "1. Somar dois números.\n",
    "2. Raiz quadrada de um número.\n",
    "\n",
    "Digite a opção desejada:"
   ]
  },
  {
   "cell_type": "code",
   "execution_count": 30,
   "metadata": {},
   "outputs": [
    {
     "name": "stdin",
     "output_type": "stream",
     "text": [
      "1. Soma\n",
      "2. Raíz quadrada\n",
      "- Digite o tipo de operação que você deseja realizar: 2\n",
      "\n",
      "Digite o número:  16\n"
     ]
    },
    {
     "name": "stdout",
     "output_type": "stream",
     "text": [
      "\n",
      "- Resultado da raíz quadrada: 4.0\n"
     ]
    }
   ],
   "source": [
    "import sys\n",
    "import math\n",
    "\n",
    "type = int(input('1. Soma\\n2. Raíz quadrada\\n- Digite o tipo de operação que você deseja realizar:'))\n",
    "if(type != 1 and type != 2):\n",
    "    sys.exit('O número informado é não válido')\n",
    "\n",
    "n1 = float(input('\\nDigite o número: '))\n",
    "\n",
    "if(type == 1):\n",
    "    n2 = float(input('Agora, o segundo número para a soma: '))\n",
    "    print(f'\\n- Resultado da soma: {n1+n2}')\n",
    "elif(type == 2):\n",
    "    print(f'\\n- Resultado da raíz quadrada: {math.sqrt(n1)}')\n",
    "    "
   ]
  },
  {
   "cell_type": "markdown",
   "metadata": {},
   "source": [
    "6. Faça um programa que receba o código correspondente ao cargo de um funcionário e seu salário atual e mostre o cargo, o valor do aumento e seu novo salário. Os cargos estão na tabela a seguir.\n",
    "\n",
    "| Código | Cargo       | Percentual  |\n",
    "|--------|-------------|-------------|\n",
    "| 1      | Escrituário | 50%         |\n",
    "| 2      | Secretário  | 35%         |\n",
    "| 3      | Caixa       | 20%         |\n",
    "| 4      | Gerente     | 10%         |\n",
    "| 5      | Diretor     | Sem Aumento |"
   ]
  },
  {
   "cell_type": "code",
   "execution_count": 54,
   "metadata": {},
   "outputs": [
    {
     "name": "stdin",
     "output_type": "stream",
     "text": [
      "Código do cargo:  2\n",
      "Salário base:  1000\n"
     ]
    },
    {
     "name": "stdout",
     "output_type": "stream",
     "text": [
      "\n",
      "- Cargo: Secretário\n",
      "- Porcentagem de aumento: 35.0%\n",
      "- Salário final: 1350.0\n"
     ]
    }
   ],
   "source": [
    "cargos = {\n",
    "    '1': {\n",
    "        'cargo': 'Escrituário',\n",
    "        'percentual': 1.5\n",
    "    },\n",
    "    '2': {\n",
    "        'cargo': 'Secretário',\n",
    "        'percentual': 1.35\n",
    "    },\n",
    "    '3': {\n",
    "        'cargo': 'Caixa',\n",
    "        'percentual': 1.2\n",
    "    },\n",
    "    '4': {\n",
    "        'cargo': 'Gerente',\n",
    "        'percentual': 1.1\n",
    "    },\n",
    "    '5': {\n",
    "        'cargo': 'Dirigente',\n",
    "        'percentual': 1.0\n",
    "    },\n",
    "}\n",
    "\n",
    "id = input('Código do cargo: ')\n",
    "salBase = float(input('Salário base: '))\n",
    "\n",
    "cargo = cargos[id]['cargo']\n",
    "perct = (cargos[id]['percentual']*100)-100\n",
    "salFin = round(salBase*cargos[id]['percentual'], 2)\n",
    "\n",
    "print(f'\\n- Cargo: {cargo}\\n- Porcentagem de aumento: {perct}%\\n- Salário final: {salFin}')"
   ]
  },
  {
   "cell_type": "markdown",
   "metadata": {},
   "source": [
    "7. Faça um programa que receba o salário inicial de um funcionário, calcule e mostre o novo salário, acrescido de bonificação e de auxílio escola.\n",
    "\n",
    "| Salário                      | Bonificação     |\n",
    "|------------------------------|-----------------|\n",
    "| Até R\\\\$500,00                 | 5% do salário  |\n",
    "| Entre R\\\\$500,00 e R\\$1.1200,00 | 12% do salário  \n",
    "| Acima de R\\\\$1.200,00          | Sem Bonificação |\n",
    "\n",
    "| Salário           | Auxílio Escola |\n",
    "|-------------------|----------------|\n",
    "| Até R\\\\$600,00      | R\\\\$150,00       |\n",
    "| Acima de R\\\\$600,00 | R\\\\$100,00       |"
   ]
  },
  {
   "cell_type": "code",
   "execution_count": null,
   "metadata": {},
   "outputs": [],
   "source": []
  },
  {
   "cell_type": "markdown",
   "metadata": {},
   "source": [
    "8. Um supermercado deseja reajustar os preços de seus produtos usando o seguinte critério: o produto poderá ter seu preço aumentado ou diminuído. Para o preço ser alterado, o produto deve preencher pelo menos um dos requisitos a seguir:\n",
    "\n",
    "| Venda Média Mensal | Preço Atual             | % de Aumento | % de Diminuição |\n",
    "|--------------------|-------------------------|--------------|-----------------|\n",
    "| < 500              | < R\\\\$ 30,00              | 10           | -               |\n",
    "| >= 500 e < 1.200   | >= R\\\\$30,00 e < R\\\\$ 80,00 | 15           | -               |\n",
    "| >= 1.200           | >= R\\\\$80,00              | -            | 20              |"
   ]
  },
  {
   "cell_type": "code",
   "execution_count": null,
   "metadata": {},
   "outputs": [],
   "source": []
  },
  {
   "cell_type": "markdown",
   "metadata": {},
   "source": [
    "9. Faça um programa para resolver equações do 2º grau.\n",
    "\n",
    "$$\n",
    "a^{2} + bx + c = 0\n",
    "$$\n",
    "\n",
    "\n",
    "Onde x é uma variável, sendo a, b e c constantes, com a ≠ 0 \n",
    "\n",
    "\n",
    "$$\n",
    "\\Delta = b^{2} - 4ac\n",
    "$$\n",
    "\n",
    "$$\n",
    "\\Delta < 0 \\rightarrow não \\: existe  \\: raiz  \\: real\n",
    "$$\n",
    "\n",
    "$$\n",
    "\\Delta = 0 \\rightarrow  existe  \\: raiz  \\: real\n",
    "$$\n",
    "\n",
    "$$\n",
    "x = \\frac{-b}{2a}\n",
    "$$\n",
    "\n",
    "\n",
    "\n",
    "$$\n",
    "\\Delta > 0 \\rightarrow existem \\: duas  \\: raizes  \\: reais\n",
    "$$\n",
    "\n",
    "\n",
    "$$\n",
    "x_1 = \\frac{-b \\: + \\: \\sqrt{\\Delta } }{2a}\n",
    "$$\n",
    "\n",
    "$$\n",
    "x_2 = \\frac{-b \\: - \\: \\sqrt{\\Delta } }{2a}\n",
    "$$"
   ]
  },
  {
   "cell_type": "code",
   "execution_count": null,
   "metadata": {},
   "outputs": [],
   "source": []
  },
  {
   "cell_type": "markdown",
   "metadata": {},
   "source": [
    "10. Dados três valores X, Y e Z, verifique se eles podem ser os comprimentos dos lados de um triângulo e, se forem, verifique se é um triângulo equilátero, isósceles ou escaleno. Se eles não formarem um triângulo, escreva uma mensagem. Considere que:\n",
    "\n",
    "- O comprimento de cada lado de um triângulo é menor que a soma dos outros dois lados;\n",
    "- Chama-se equilátero o triângulo que tem três lados iguais;\n",
    "- Denomina-se isósceles o triângulo que tem o comprimento de dois lados iguais;\n",
    "- Recebe o nome de escaleno o triângulo que tem os três lados diferentes."
   ]
  },
  {
   "cell_type": "code",
   "execution_count": null,
   "metadata": {},
   "outputs": [],
   "source": []
  },
  {
   "cell_type": "markdown",
   "metadata": {},
   "source": [
    "11. Faça um programa que receba a altura e o peso de uma pessoa. De acordo com a tabela a seguir, verifique e mostre a classificação dessa pessoa.\n",
    "\n",
    "| Altura           | Peso até 60 | Peso entre 60 e 90 (Inclusive) | Peso Acima de 90 |\n",
    "|------------------|-------------|--------------------------------|------------------|\n",
    "| Menores que 1,20 | A           | D                              | G                |\n",
    "| De 1,20 a 1,70   | B           | E                              | H                |\n",
    "| Maiores que 1,70 | C           | F                              | I                |"
   ]
  },
  {
   "cell_type": "code",
   "execution_count": null,
   "metadata": {},
   "outputs": [],
   "source": []
  },
  {
   "cell_type": "markdown",
   "metadata": {},
   "source": [
    "12. Faça um programa que receba:\n",
    "\n",
    "- O código de um produto comprado, supondo que a digitação do código do produto seja sempre válida, isto é, um número inteiro entre 1 e 10.\n",
    "- O peso do produto em quilos.\n",
    "- O código do país de origem, supondo que a digitação do código seja sempre válida, isto é, um número inteiro entre 1 e 3. \n",
    "\n",
    "Tabelas:\n",
    "\n",
    "| Código do País de Origem | Imposto |\n",
    "|--------------------------|---------|\n",
    "| 1                        | 0%      |\n",
    "| 2                        | 15%     |\n",
    "| 3                        | 25%     |\n",
    "\n",
    "\n",
    "| Código do Produto | Preço por Grama |\n",
    "|-------------------|-----------------|\n",
    "| 1 a 4             | 10              |\n",
    "| 5 a 7             | 25              |\n",
    "| 8 a 10            | 35              |"
   ]
  },
  {
   "cell_type": "code",
   "execution_count": null,
   "metadata": {},
   "outputs": [],
   "source": []
  },
  {
   "cell_type": "markdown",
   "metadata": {},
   "source": [
    "13. Escreva um programa que calcule o quadrado e o cubo dos números de 0 a 10, e imprima os valores em forma de tabela. Número | Quadrado | Cubo"
   ]
  },
  {
   "cell_type": "code",
   "execution_count": null,
   "metadata": {},
   "outputs": [],
   "source": []
  },
  {
   "cell_type": "markdown",
   "metadata": {},
   "source": [
    "14. Um funcionário de uma empresa recebe, anualmente, aumento salarial. Sabe-se que:\n",
    "\n",
    "- Esse funcionário foi contratado em 2005, com salário inicial de R\\\\$ 1.000,00.\n",
    "- Em 2006, ele recebeu aumento de 1,5% sobre seu salário inicial.\n",
    "- A partir de 2007 (inclusive), os aumentos salariais sempre corresponderam ao dobro do percentual do ano anterior.\n",
    "\n",
    "Faça um programa que determine o salário atual desse funcionário."
   ]
  },
  {
   "cell_type": "code",
   "execution_count": null,
   "metadata": {},
   "outputs": [],
   "source": []
  },
  {
   "cell_type": "markdown",
   "metadata": {},
   "source": [
    "15. Foi feita uma pesquisa para determinar o índice de mortalidade infantil em certo período. Faça um programa que:\n",
    "\n",
    "- Leia o número de crianças nascidas no período;\n",
    "- Identifique o sexo (M ou F) e o tempo de vida de cada criança nascida.\n",
    "\n",
    "O programa deve calcular e mostrar:\n",
    "\n",
    "- A porcentagem de crianças do sexo feminino mortas no período;\n",
    "- A porcentagem de crianças do sexo masculino mortas no período;\n",
    "- A porcentagem de crianças que viveram 24 meses ou menos no período."
   ]
  },
  {
   "cell_type": "code",
   "execution_count": null,
   "metadata": {},
   "outputs": [],
   "source": []
  },
  {
   "cell_type": "markdown",
   "metadata": {},
   "source": [
    "16. Faça um programa que receba duas notas de seis alunos. Calcule e mostre:\n",
    "\n",
    "- A média aritmética das duas notas de cada aluno; e\n",
    "- A mensagem que está na tabela a seguir:\n",
    "- O total de alunos aprovados;\n",
    "- O total de alunos de exame;\n",
    "- O total de alunos reprovados;\n",
    "- A média da classe.\n",
    "\n",
    "| Média Aritmética | Situação       |\n",
    "|------------------|----------------|\n",
    "| Entre 0 e 29     | Reprovado      |\n",
    "| Entre 30 e 69    | Exame Especial |\n",
    "| Entre 70 e 100   | Aprovado       |\n"
   ]
  },
  {
   "cell_type": "code",
   "execution_count": null,
   "metadata": {},
   "outputs": [],
   "source": []
  },
  {
   "cell_type": "markdown",
   "metadata": {},
   "source": [
    "17. Faça um programa para calcular a área de um triângulo e que não permita a entrada de dados inválidos, ou seja, medidas menores ou iguais a 0."
   ]
  },
  {
   "cell_type": "code",
   "execution_count": null,
   "metadata": {},
   "outputs": [],
   "source": []
  },
  {
   "cell_type": "markdown",
   "metadata": {},
   "source": [
    "18. Faça um programa que leia um conjunto não determinado de valores e mostre o valor lido, seu quadrado, seu cubo e sua raiz quadrada. Finalize a entrada de dados com um valor negativo ou zero."
   ]
  },
  {
   "cell_type": "code",
   "execution_count": null,
   "metadata": {},
   "outputs": [],
   "source": []
  },
  {
   "cell_type": "markdown",
   "metadata": {},
   "source": [
    "19. Faça um programa que leia um número não determinado de pares de valores [m,n], todos inteiros e positivos, um par de cada vez, e que calcule e mostre a soma de todos os números inteiros entre m e n (inclusive). A digitação de pares terminará quando m for maior ou igual a n."
   ]
  },
  {
   "cell_type": "code",
   "execution_count": null,
   "metadata": {},
   "outputs": [],
   "source": []
  },
  {
   "cell_type": "markdown",
   "metadata": {},
   "source": [
    "20. Faça um programa que receba vários números, calcule e mostre:\n",
    "\n",
    "    - A soma dos números digitados;\n",
    "    - A quantidade de números digitados;\n",
    "    - A média dos números digitados;\n",
    "    - O maior número digitado;\n",
    "    - O menor número digitado;\n",
    "    - A média dos números pares;\n",
    "    - A porcentagem dos números ímpares entre todos os números digitados.\n",
    "\n",
    "Finalize a entrada de dados com a digitação do número 0."
   ]
  },
  {
   "cell_type": "code",
   "execution_count": null,
   "metadata": {},
   "outputs": [],
   "source": []
  }
 ],
 "metadata": {
  "kernelspec": {
   "display_name": "Python 3 (ipykernel)",
   "language": "python",
   "name": "python3"
  },
  "language_info": {
   "codemirror_mode": {
    "name": "ipython",
    "version": 3
   },
   "file_extension": ".py",
   "mimetype": "text/x-python",
   "name": "python",
   "nbconvert_exporter": "python",
   "pygments_lexer": "ipython3",
   "version": "3.9.12"
  }
 },
 "nbformat": 4,
 "nbformat_minor": 4
}
